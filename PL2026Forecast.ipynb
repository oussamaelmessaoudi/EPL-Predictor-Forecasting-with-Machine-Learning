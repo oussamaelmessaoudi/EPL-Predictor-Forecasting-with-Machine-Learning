{
 "cells": [
  {
   "cell_type": "markdown",
   "id": "235a79f2",
   "metadata": {},
   "source": [
    "#1 Setup and imports"
   ]
  },
  {
   "cell_type": "code",
   "execution_count": 51,
   "id": "de219c73",
   "metadata": {},
   "outputs": [
    {
     "name": "stdout",
     "output_type": "stream",
     "text": [
      "Install done\n"
     ]
    }
   ],
   "source": [
    "import sys\n",
    "!{sys.executable} -m pip install pandas numpy matplotlib seaborn plotly scikit-learn >nul 2>&1\n",
    "print(\"Install done\")"
   ]
  },
  {
   "cell_type": "code",
   "execution_count": null,
   "id": "82281368",
   "metadata": {},
   "outputs": [
    {
     "name": "stderr",
     "output_type": "stream",
     "text": [
      "Matplotlib is building the font cache; this may take a moment.\n"
     ]
    }
   ],
   "source": [
    "#Core libraries\n",
    "import pandas as pd\n",
    "import numpy as np \n",
    "#Visualization libraries\n",
    "import matplotlib.pyplot as plt\n",
    "import seaborn as sns \n",
    "import plotly.express as px \n",
    "#Machine learning libraries\n",
    "from sklearn.model_selection import train_test_split, cross_val_score\n",
    "from sklearn.linear_model import LogisticRegression, Ridge, LogisticRegression\n",
    "from sklearn.ensemble import RandomForestClassifier, RandomForestRegressor\n",
    "from sklearn.metrics import mean_absolute_error,mean_squared_error, classification_report, accuracy_score, confusion_matrix\n",
    "#Data preprocessing libraries\n",
    "from sklearn.preprocessing import StandardScaler, MinMaxScaler, LabelEncoder"
   ]
  },
  {
   "cell_type": "markdown",
   "id": "56578ac0",
   "metadata": {},
   "source": [
    "#2 Data Collection"
   ]
  },
  {
   "cell_type": "markdown",
   "id": "121dfad1",
   "metadata": {},
   "source": [
    "- *Clubs Data :*"
   ]
  },
  {
   "cell_type": "markdown",
   "id": "0e181d73",
   "metadata": {},
   "source": [
    "\n",
    "Points, wins, draws, losses, goals for/against, xG/xGA"
   ]
  },
  {
   "cell_type": "code",
   "execution_count": 48,
   "id": "424d2c7c",
   "metadata": {},
   "outputs": [
    {
     "name": "stdout",
     "output_type": "stream",
     "text": [
      "       Season            Squad  Pts   W   D   L  GF  GA  GD  Rk\n",
      "0   2024/2025        Liverpool   84  25   9   4  86  41  45   1\n",
      "1   2024/2025          Arsenal   74  20  14   4  69  34  35   2\n",
      "2   2024/2025  Manchester City   71  21   8   9  72  44  28   3\n",
      "3   2024/2025          Chelsea   69  20   9   9  64  43  21   4\n",
      "4   2024/2025    Newcastle Utd   66  20   6  12  68  47  21   5\n",
      "5   2023/2024  Manchester City   91  28   7   3  96  34  62   1\n",
      "6   2023/2024          Arsenal   89  28   5   5  91  29  62   2\n",
      "7   2023/2024        Liverpool   82  24  10   4  86  41  45   3\n",
      "8   2023/2024      Aston Villa   68  20   8  10  76  61  15   4\n",
      "9   2023/2024        Tottenham   66  20   6  12  74  61  13   5\n",
      "10  2022/2023  Manchester City   89  28   5   5  94  33  61   1\n",
      "11  2022/2023          Arsenal   84  26   6   6  88  43  45   2\n",
      "12  2022/2023   Manchester Utd   75  23   6   9  58  43  15   3\n",
      "13  2022/2023    Newcastle Utd   71  19  14   5  68  33  35   4\n",
      "14  2022/2023        Liverpool   67  19  10   9  75  47  28   5\n",
      "15  2021/2022  Manchester City   93  29   6   3  99  26  73   1\n",
      "16  2021/2022        Liverpool   92  28   8   2  94  26  68   2\n",
      "17  2021/2022          Chelsea   74  21  11   6  76  33  43   3\n",
      "18  2021/2022        Tottenham   71  22   5  11  69  40  29   4\n",
      "19  2021/2022          Arsenal   69  22   3  13  61  48  13   5\n",
      "20  2020/2021  Manchester City   86  27   5   6  83  32  51   1\n",
      "21  2020/2021   Manchester Utd   74  21  11   6  73  44  29   2\n",
      "22  2020/2021        Liverpool   69  20   9   9  68  42  26   3\n",
      "23  2020/2021          Chelsea   67  19  10   9  58  36  22   4\n",
      "24  2020/2021   Leicester City   66  20   6  12  68  50  18   5\n"
     ]
    }
   ],
   "source": [
    "import pandas as pd\n",
    "import warnings\n",
    "\n",
    "warnings.filterwarnings(\"ignore\")\n",
    "seasons = [2025,2024,2023,2022,2021]\n",
    "top5_standings = []\n",
    "\n",
    "for season in seasons:\n",
    "    url = f\"https://fbref.com/en/comps/9/{season-1}-{season}/{season-1}-{season}-Premier-League-Stats\"\n",
    "    tables = pd.read_html(url)\n",
    "    df = tables[0]\n",
    "    df.columns = [' '.join(col).strip() if isinstance(col, tuple) else col for col in df.columns.values]\n",
    "\n",
    "    #Select the first 5 teams (top 5 teams)\n",
    "    top5 = df.head(5)\n",
    "    top5.loc[:, 'Season'] = f\"{season-1}/{season}\"\n",
    "    top5_standings.append(top5)\n",
    "\n",
    "standings_df = pd.concat(top5_standings, ignore_index=True)\n",
    "print(standings_df[['Season', 'Squad', 'Pts', 'W', 'D', 'L', 'GF', 'GA', 'GD','Rk']])"
   ]
  },
  {
   "cell_type": "markdown",
   "id": "b6573ca3",
   "metadata": {},
   "source": [
    "Squad market value"
   ]
  },
  {
   "cell_type": "code",
   "execution_count": 60,
   "id": "c4a9e136",
   "metadata": {},
   "outputs": [
    {
     "name": "stdout",
     "output_type": "stream",
     "text": [
      "                     Club Average Market Value Total Market Value\n",
      "0         Manchester City              €39.37m            €1.34bn\n",
      "1              Chelsea FC              €28.92m            €1.30bn\n",
      "2              Arsenal FC              €46.88m            €1.17bn\n",
      "3            Liverpool FC              €37.19m            €1.08bn\n",
      "4       Tottenham Hotspur              €25.00m           €849.90m\n",
      "5       Manchester United              €25.54m           €817.20m\n",
      "6        Newcastle United              €22.83m           €684.88m\n",
      "7  Brighton & Hove Albion              €16.62m           €664.60m\n",
      "8             Aston Villa              €19.30m           €559.80m\n",
      "9          Crystal Palace              €15.38m           €461.30m\n"
     ]
    }
   ],
   "source": [
    "import requests\n",
    "from bs4 import BeautifulSoup\n",
    "import pandas as pd\n",
    "# we will try to use requests with headers to avoid the automated blocking by the website\n",
    "url = \"https://www.transfermarkt.com/premier-league/startseite/wettbewerb/GB1/plus/?saison_id=2025\"\n",
    "headers = {\"User-Agent\": \"Mozilla/5.0\"}\n",
    "\n",
    "response = requests.get(url, headers=headers)\n",
    "soup = BeautifulSoup(response.text, \"lxml\")\n",
    "\n",
    "table = soup.find(\"table\", class_=\"items\")\n",
    "rows = table.find_all(\"tr\", class_=[\"odd\", \"even\"])\n",
    "\n",
    "data = []\n",
    "for row in rows:\n",
    "    cells = row.find_all(\"td\")\n",
    "    if len(cells) >= 7:\n",
    "        club = cells[1].get_text(strip=True)\n",
    "        avg_value = cells[5].get_text(strip=True)\n",
    "        total_value = cells[6].get_text(strip=True)\n",
    "        data.append([club, avg_value, total_value])\n",
    "\n",
    "sm_df = pd.DataFrame(data, columns=[\"Club\", \"Average Market Value\", \"Total Market Value\"])\n",
    "print(sm_df.head(10))\n"
   ]
  },
  {
   "cell_type": "markdown",
   "id": "f1e2c24d",
   "metadata": {},
   "source": [
    "Manager changes"
   ]
  },
  {
   "cell_type": "code",
   "execution_count": 95,
   "id": "c041ca2f",
   "metadata": {},
   "outputs": [
    {
     "name": "stdout",
     "output_type": "stream",
     "text": [
      "                Club      New Manager\n",
      "0       Brentford FC    Keith Andrews\n",
      "1     Leicester City  Martí Cifuentes\n",
      "2  Tottenham Hotspur     Thomas Frank\n",
      "3     Southampton FC       Will Still\n"
     ]
    }
   ],
   "source": [
    "import requests\n",
    "from bs4 import BeautifulSoup\n",
    "import pandas as pd\n",
    "\n",
    "url = \"https://www.transfermarkt.com/premier-league/trainerwechsel/wettbewerb/GB1/plus/?saison_id=2024\"\n",
    "headers = {\"User-Agent\": \"Mozilla/5.0\"}\n",
    "\n",
    "response = requests.get(url, headers=headers)\n",
    "soup = BeautifulSoup(response.text, \"lxml\")\n",
    "\n",
    "table = soup.find(\"table\", class_=\"items\")\n",
    "rows = table.find_all(\"tr\", class_=[\"odd\", \"even\"])\n",
    "\n",
    "data = []\n",
    "for row in rows:\n",
    "    # We only want rows with at least 7 cells\n",
    "    cells = row.find_all(\"td\")\n",
    "    if len(cells) < 7:\n",
    "        continue\n",
    "\n",
    "    # We extract the club name from the <a> tag in the first cell\n",
    "    # it's the title attribute of the <a> tag\n",
    "    club_tag = cells[0].find(\"a\")\n",
    "    club = club_tag.get(\"title\", club_tag.text.strip()) if club_tag else cells[0].get_text(strip=True)\n",
    "\n",
    "    #The new manager located in the 11th cell\n",
    "    #stripping the text to remove any extra spaces\n",
    "    new_manager = cells[10].get_text(strip=True)\n",
    "\n",
    "    data.append([club, new_manager])\n",
    "\n",
    "managers_df = pd.DataFrame(data, columns=[\"Club\", \"New Manager\"]).head(4)\n",
    "print(managers_df)"
   ]
  },
  {
   "cell_type": "markdown",
   "id": "f6172a5d",
   "metadata": {},
   "source": [
    "Transfers in/out (value, type)\n",
    "\n"
   ]
  },
  {
   "cell_type": "code",
   "execution_count": null,
   "id": "aa6bcc0f",
   "metadata": {},
   "outputs": [],
   "source": []
  },
  {
   "cell_type": "markdown",
   "id": "ece4d035",
   "metadata": {},
   "source": [
    "Team strength metrics"
   ]
  },
  {
   "cell_type": "code",
   "execution_count": null,
   "id": "882ae2d8",
   "metadata": {},
   "outputs": [],
   "source": []
  },
  {
   "cell_type": "markdown",
   "id": "1aa1d646",
   "metadata": {},
   "source": [
    "- *Player Data :*"
   ]
  },
  {
   "cell_type": "markdown",
   "id": "39ea6ab7",
   "metadata": {},
   "source": [
    "Goals, xG, shots, minutes played"
   ]
  },
  {
   "cell_type": "code",
   "execution_count": 26,
   "id": "8b9b22f0",
   "metadata": {},
   "outputs": [
    {
     "name": "stdout",
     "output_type": "stream",
     "text": [
      "     Season             name Minutes played Games played Goals Assists  \\\n",
      "0      2024    Mohamed Salah           3392           38    29      18   \n",
      "1      2024   Alexander Isak           2822           34    23       6   \n",
      "2      2024   Erling Haaland           2749           31    22       3   \n",
      "3      2024       Chris Wood           3024           36    20       3   \n",
      "4      2024     Bryan Mbeumo           3419           38    20       7   \n",
      "..      ...              ...            ...          ...   ...     ...   \n",
      "245    2020          Rodrigo           1285           26     7       2   \n",
      "246    2020      Richarlison           2883           34     7       3   \n",
      "247    2020    Ferrán Torres           1305           24     7       2   \n",
      "248    2020  Mason Greenwood           1825           31     7       2   \n",
      "249    2020      Timo Werner           2605           35     6       8   \n",
      "\n",
      "                     xG                  xA Shots Key Passes npg  \\\n",
      "0     27.70626749098301  15.858334187418222   130         89  20   \n",
      "1    22.356988068670034    5.44870379474014    99         42  19   \n",
      "2     23.95459282770753  3.5812273556366563   109         29  19   \n",
      "3    15.638655036687851   3.044111367315054    68         22  17   \n",
      "4     13.63216146454215  10.376488702371716    86         70  15   \n",
      "..                  ...                 ...   ...        ...  ..   \n",
      "245   5.755638722330332   3.200528811663389    46         31   7   \n",
      "246  10.670258212834597  3.3947635404765606    81         25   6   \n",
      "247   5.728712034411728  2.2024257499724627    36         18   7   \n",
      "248   6.975751496851444   2.427899083122611    67         14   7   \n",
      "249  13.432795317843556   6.667280228808522    80         36   6   \n",
      "\n",
      "                   npxG  \n",
      "0    20.855747912079096  \n",
      "1    19.312312599271536  \n",
      "2    20.909917432814837  \n",
      "3    13.355148404836655  \n",
      "4      9.06514835730195  \n",
      "..                  ...  \n",
      "245   5.755638722330332  \n",
      "246    9.90908919647336  \n",
      "247   5.728712034411728  \n",
      "248   6.975751496851444  \n",
      "249  13.432795317843556  \n",
      "\n",
      "[250 rows x 12 columns]\n"
     ]
    }
   ],
   "source": [
    "import requests \n",
    "import pandas as pd\n",
    "from bs4 import BeautifulSoup\n",
    "import json \n",
    "\n",
    "seasons = [2024, 2023, 2022, 2021, 2020]\n",
    "players_data = []\n",
    "for season in seasons:      \n",
    "    url = f\"https://understat.com/league/EPL/{season}\"\n",
    "\n",
    "    response = requests.get(url)\n",
    "    soup = BeautifulSoup(response.text, 'lxml')\n",
    "    scripts = soup.find_all('script')\n",
    "\n",
    "    try:\n",
    "        strings = scripts[3].string\n",
    "\n",
    "        ind_start = strings.index(\"('\")+2\n",
    "        ind_end = strings.index(\"');\")\n",
    "        json_data = strings[ind_start:ind_end]\n",
    "        json_data = json_data.encode('utf-8').decode('unicode_escape')\n",
    "        data = json.loads(json_data)\n",
    "        # print(json.dumps(data, indent=2))\n",
    "\n",
    "        \n",
    "        for player in data[:50]: # Limit to first 50 players for brevity\n",
    "            player_info = {\n",
    "                \"Season\": season,\n",
    "                \"name\" : player['player_name'],\n",
    "                \"Minutes played\": player['time'],\n",
    "                \"Games played\": player['games'],\n",
    "                \"Goals\": player['goals'],\n",
    "                \"Assists\": player['assists'],\n",
    "                \"xG\": player['xG'],\n",
    "                \"xA\": player['xA'],\n",
    "                \"Shots\": player['shots'],\n",
    "                \"Key Passes\": player['key_passes'],\n",
    "                \"npg\": player['npg'],\n",
    "                \"npxG\": player['npxG'],  \n",
    "            }\n",
    "            players_data.append(player_info)\n",
    "    except Exception as e:\n",
    "        print(f\"Error processing season {season}: {e}\")\n",
    "    \n",
    "players_df = pd.DataFrame(players_data) \n",
    "print(players_df)"
   ]
  },
  {
   "cell_type": "markdown",
   "id": "5fec7682",
   "metadata": {},
   "source": [
    "Player Position and Team"
   ]
  },
  {
   "cell_type": "code",
   "execution_count": 55,
   "id": "f0cf7de1",
   "metadata": {},
   "outputs": [
    {
     "name": "stdout",
     "output_type": "stream",
     "text": [
      "    Season                  name       Team Name            Position Minutes played Games played Goals Assists                  xG                  xA Shots Key Passes npg                npxG     Penalty Taker\n",
      "0     2024         Mohamed Salah       Liverpool          Midfielder           3392           38    29      18   27.70626749098301  15.858334187418222   130         89  20  20.855747912079096  Player not found\n",
      "1     2024        Alexander Isak       Newcastle             Forward           2822           34    23       6  22.356988068670034    5.44870379474014    99         42  19  19.312312599271536  Player not found\n",
      "2     2024        Erling Haaland        Man City             Forward           2749           31    22       3   23.95459282770753  3.5812273556366563   109         29  19  20.909917432814837  Player not found\n",
      "3     2024            Chris Wood   Nott'm Forest             Forward           3024           36    20       3  15.638655036687851   3.044111367315054    68         22  17  13.355148404836655  Player not found\n",
      "4     2024          Bryan Mbeumo       Brentford          Midfielder           3419           38    20       7   13.63216146454215  10.376488702371716    86         70  15    9.06514835730195  Player not found\n",
      "5     2024           Yoane Wissa       Brentford             Forward           2943           35    18       4  20.731059528887272  3.4494741149246693    90         28  18  20.731059528887272  Player not found\n",
      "6     2024         Ollie Watkins     Aston Villa             Forward           2666           38    16       8  18.632458329200745    3.87640418484807    84         25  14   17.11012053489685  Player not found\n",
      "7     2024         Matheus Cunha  Team not found  Position not found           2617           33    15       6   8.446298986673355   7.411126339808106   110         56  15   8.446298986673355  Player not found\n",
      "8     2024           Cole Palmer         Chelsea          Midfielder           3228           37    15       8   15.77423645183444  12.954366408288479   126         87  11  11.968392122536898  Player not found\n",
      "9     2024  Jean-Philippe Mateta  Crystal Palace             Forward           2690           37    14       2   15.83262430690229    3.85278513841331    69         29  12   14.31028657220304  Player not found\n",
      "10    2024  Jørgen Strand Larsen          Wolves             Forward           2624           35    14       4  11.689683858305216   3.358626527711749    54         19  14  11.689683858305216  Player not found\n",
      "11    2024          Jarrod Bowen        West Ham          Midfielder           2993           34    13       8   9.816103929653764   7.633318647742271    87         50  12   9.054935092106462  Player not found\n",
      "12    2024             Luis Díaz       Liverpool          Midfielder           2433           36    13       5    12.3563298471272   6.245185255073011    71         56  13    12.3563298471272  Player not found\n",
      "13    2024          Raúl Jiménez          Fulham             Forward           2531           38    12       3  14.405358291231096   4.079181319102645    96         25   9  12.121851704083383  Player not found\n",
      "14    2024       Justin Kluivert     Bournemouth          Midfielder           2390           34    12       6  10.441609976813197   5.512896118685603    63         44   6    5.87459684535861  Player not found\n"
     ]
    }
   ],
   "source": [
    "import requests\n",
    "import pandas as pd\n",
    "#Channge the pandas display options to show all columns and increase width\n",
    "pd.set_option('display.max_columns', None)      # Show all columns\n",
    "pd.set_option('display.width', 2000)            # Increase display width\n",
    "pd.set_option('display.max_colwidth', None)     # Show full column content\n",
    "\n",
    "url = \"https://fantasy.premierleague.com/api/bootstrap-static/\"\n",
    "response = requests.get(url)\n",
    "data = response.json()\n",
    "positions = {pos['id']: pos['singular_name'] for pos in data['element_types']}\n",
    "name_to_position = {}\n",
    "for player in data['elements']:\n",
    "    full_name = f\"{player['first_name']} {player['second_name']}\".lower()\n",
    "    name_to_position[full_name] = positions.get(player['element_type'], \"Position not found\")\n",
    "\n",
    "def get_player_position(player_name):\n",
    "    return name_to_position.get(player_name.lower(), \"Position not found\")\n",
    "\n",
    "def get_player_team(player_name):\n",
    "    for player in data['elements']:\n",
    "        full_name = f\"{player['first_name']} {player['second_name']}\".lower()\n",
    "        if (full_name.lower() == player_name.lower() or\n",
    "            player['web_name'].lower() == player_name.lower() or\n",
    "            player['first_name'].lower() == player_name.lower() or\n",
    "            player['second_name'].lower() == player_name.lower() or\n",
    "            player['web_name'].lower() == player_name.lower() ):\n",
    "            for team in data['teams']:\n",
    "                if team['id'] == player['team']:\n",
    "                    return team['name']\n",
    "    return \"Team not found\"\n",
    "\n",
    "# Add team name and position just after the player name column\n",
    "players_df['Team Name'] = players_df['name'].apply(get_player_team)\n",
    "players_df['Position'] = players_df['name'].apply(get_player_position)\n",
    "\n",
    "# Move 'Team Name' and 'Position' right after 'name'\n",
    "cols = list(players_df.columns)\n",
    "name_idx = cols.index('name')\n",
    "# Remove if already present to avoid duplicates\n",
    "cols = [c for c in cols if c not in ['Team Name', 'Position']]\n",
    "new_cols = cols[:name_idx+1] + ['Team Name', 'Position'] + cols[name_idx+1:]\n",
    "players_df = players_df[new_cols]\n",
    "\n",
    "print(players_df.head(15))"
   ]
  },
  {
   "cell_type": "markdown",
   "id": "49813607",
   "metadata": {},
   "source": [
    "Team attacking style"
   ]
  },
  {
   "cell_type": "code",
   "execution_count": null,
   "id": "84025874",
   "metadata": {},
   "outputs": [],
   "source": []
  },
  {
   "cell_type": "markdown",
   "id": "3d75a06c",
   "metadata": {},
   "source": [
    "Penalty taker? (Yes/No)"
   ]
  },
  {
   "cell_type": "code",
   "execution_count": 61,
   "id": "fcf16b1a",
   "metadata": {},
   "outputs": [
    {
     "name": "stdout",
     "output_type": "stream",
     "text": [
      "   Season                  name       Team Name            Position Minutes played Games played Goals Assists                  xG                  xA Shots Key Passes npg                npxG     Penalty Taker\n",
      "0    2024         Mohamed Salah       Liverpool          Midfielder           3392           38    29      18   27.70626749098301  15.858334187418222   130         89  20  20.855747912079096               Yes\n",
      "1    2024        Alexander Isak       Newcastle             Forward           2822           34    23       6  22.356988068670034    5.44870379474014    99         42  19  19.312312599271536               Yes\n",
      "2    2024        Erling Haaland        Man City             Forward           2749           31    22       3   23.95459282770753  3.5812273556366563   109         29  19  20.909917432814837               Yes\n",
      "3    2024            Chris Wood   Nott'm Forest             Forward           3024           36    20       3  15.638655036687851   3.044111367315054    68         22  17  13.355148404836655               Yes\n",
      "4    2024          Bryan Mbeumo       Brentford          Midfielder           3419           38    20       7   13.63216146454215  10.376488702371716    86         70  15    9.06514835730195               Yes\n",
      "5    2024           Yoane Wissa       Brentford             Forward           2943           35    18       4  20.731059528887272  3.4494741149246693    90         28  18  20.731059528887272               Yes\n",
      "6    2024         Ollie Watkins     Aston Villa             Forward           2666           38    16       8  18.632458329200745    3.87640418484807    84         25  14   17.11012053489685               Yes\n",
      "7    2024         Matheus Cunha  Team not found  Position not found           2617           33    15       6   8.446298986673355   7.411126339808106   110         56  15   8.446298986673355  Player not found\n",
      "8    2024           Cole Palmer         Chelsea          Midfielder           3228           37    15       8   15.77423645183444  12.954366408288479   126         87  11  11.968392122536898               Yes\n",
      "9    2024  Jean-Philippe Mateta  Crystal Palace             Forward           2690           37    14       2   15.83262430690229    3.85278513841331    69         29  12   14.31028657220304               Yes\n"
     ]
    }
   ],
   "source": [
    "# We will simply define a function to check either a player is a penalty taker or not and what is his order if sp\n",
    "import requests\n",
    "\n",
    "# we fetch the data once for efficiency\n",
    "url = \"https://fantasy.premierleague.com/api/bootstrap-static/\"\n",
    "response = requests.get(url)\n",
    "if response.status_code != 200:\n",
    "    raise Exception(\"Failed to fetch data from the API\")\n",
    "data = response.json()\n",
    "\n",
    "def is_penalty_taker(player_name):\n",
    "    for player in data['elements']:\n",
    "        full_name = f\"{player['first_name']} {player['second_name']}\"\n",
    "        if (full_name.lower() == player_name.lower() or\n",
    "            player['web_name'].lower() == player_name.lower() or\n",
    "            player['first_name'].lower() == player_name.lower() or\n",
    "            player['second_name'].lower() == player_name.lower() or\n",
    "            player['web_name'].lower() == player_name.lower()):\n",
    "            order = player['penalties_order']\n",
    "            if order and order > 0:\n",
    "                return \"Yes\"\n",
    "            else:\n",
    "                return \"No\"\n",
    "    return \"Player not found\"\n",
    "players_df['Penalty Taker'] = players_df['name'].apply(is_penalty_taker)\n",
    "\n",
    "cols = list(players_df.columns)\n",
    "npxg = cols.index('npxG')\n",
    "cols = [c for c in cols if c != 'Penalty Taker']\n",
    "new_cols = cols[:npxg+1] + ['Penalty Taker'] + cols[npxg+1:]\n",
    "\n",
    "players_df = players_df[new_cols]\n",
    "print(players_df.head(10))"
   ]
  },
  {
   "cell_type": "markdown",
   "id": "3a98123c",
   "metadata": {},
   "source": [
    "#3 Data Cleaning & Preprocessing"
   ]
  },
  {
   "cell_type": "code",
   "execution_count": null,
   "id": "61740452",
   "metadata": {},
   "outputs": [],
   "source": []
  },
  {
   "cell_type": "markdown",
   "id": "bb00e133",
   "metadata": {},
   "source": [
    "#4 Build the Prediction Models"
   ]
  },
  {
   "cell_type": "code",
   "execution_count": null,
   "id": "218723b5",
   "metadata": {},
   "outputs": [],
   "source": []
  },
  {
   "cell_type": "markdown",
   "id": "08b2e179",
   "metadata": {},
   "source": [
    "#5 Evaluate Models"
   ]
  },
  {
   "cell_type": "code",
   "execution_count": null,
   "id": "814e5d53",
   "metadata": {},
   "outputs": [],
   "source": []
  },
  {
   "cell_type": "markdown",
   "id": "ee9fd0da",
   "metadata": {},
   "source": [
    "#6 Simulate Next Season"
   ]
  },
  {
   "cell_type": "code",
   "execution_count": null,
   "id": "532549e0",
   "metadata": {},
   "outputs": [],
   "source": []
  },
  {
   "cell_type": "markdown",
   "id": "17b1c23a",
   "metadata": {},
   "source": [
    "#7 Visualizations"
   ]
  },
  {
   "cell_type": "code",
   "execution_count": null,
   "id": "079c868f",
   "metadata": {},
   "outputs": [],
   "source": []
  }
 ],
 "metadata": {
  "kernelspec": {
   "display_name": "Python 3",
   "language": "python",
   "name": "python3"
  },
  "language_info": {
   "codemirror_mode": {
    "name": "ipython",
    "version": 3
   },
   "file_extension": ".py",
   "mimetype": "text/x-python",
   "name": "python",
   "nbconvert_exporter": "python",
   "pygments_lexer": "ipython3",
   "version": "3.13.2"
  }
 },
 "nbformat": 4,
 "nbformat_minor": 5
}
