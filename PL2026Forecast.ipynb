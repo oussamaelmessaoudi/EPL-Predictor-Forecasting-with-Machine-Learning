{
 "cells": [
  {
   "cell_type": "markdown",
   "id": "235a79f2",
   "metadata": {},
   "source": [
    "#1 Setup and imports"
   ]
  },
  {
   "cell_type": "code",
   "execution_count": 28,
   "id": "de219c73",
   "metadata": {},
   "outputs": [
    {
     "name": "stdout",
     "output_type": "stream",
     "text": [
      "Install done\n"
     ]
    }
   ],
   "source": [
    "import sys\n",
    "!{sys.executable} -m pip install pandas numpy matplotlib seaborn plotly scikit-learn >nul 2>&1\n",
    "print(\"Install done\")"
   ]
  },
  {
   "cell_type": "code",
   "execution_count": 29,
   "id": "82281368",
   "metadata": {},
   "outputs": [],
   "source": [
    "#Core libraries\n",
    "import pandas as pd\n",
    "import numpy as np \n",
    "#Visualization libraries\n",
    "import matplotlib.pyplot as plt\n",
    "import seaborn as sns \n",
    "import plotly.express as px \n",
    "#Machine learning libraries\n",
    "from sklearn.model_selection import train_test_split, cross_val_score\n",
    "from sklearn.linear_model import LogisticRegression, Ridge, LogisticRegression\n",
    "from sklearn.ensemble import RandomForestClassifier, RandomForestRegressor\n",
    "from sklearn.metrics import mean_absolute_error,mean_squared_error, classification_report, accuracy_score, confusion_matrix\n",
    "#Data preprocessing libraries\n",
    "from sklearn.preprocessing import StandardScaler, MinMaxScaler, LabelEncoder"
   ]
  },
  {
   "cell_type": "markdown",
   "id": "56578ac0",
   "metadata": {},
   "source": [
    "#2 Data Collection"
   ]
  },
  {
   "cell_type": "markdown",
   "id": "121dfad1",
   "metadata": {},
   "source": [
    "- *Clubs Data :*"
   ]
  },
  {
   "cell_type": "markdown",
   "id": "0e181d73",
   "metadata": {},
   "source": [
    "\n",
    "Points, wins, draws, losses, goals for/against, xG/xGA"
   ]
  },
  {
   "cell_type": "code",
   "execution_count": 30,
   "id": "424d2c7c",
   "metadata": {},
   "outputs": [
    {
     "name": "stdout",
     "output_type": "stream",
     "text": [
      "       Season            Squad  Pts   W   D   L  GF  GA  GD  Rk\n",
      "0   2024/2025        Liverpool   84  25   9   4  86  41  45   1\n",
      "1   2024/2025          Arsenal   74  20  14   4  69  34  35   2\n",
      "2   2024/2025  Manchester City   71  21   8   9  72  44  28   3\n",
      "3   2024/2025          Chelsea   69  20   9   9  64  43  21   4\n",
      "4   2024/2025    Newcastle Utd   66  20   6  12  68  47  21   5\n",
      "5   2023/2024  Manchester City   91  28   7   3  96  34  62   1\n",
      "6   2023/2024          Arsenal   89  28   5   5  91  29  62   2\n",
      "7   2023/2024        Liverpool   82  24  10   4  86  41  45   3\n",
      "8   2023/2024      Aston Villa   68  20   8  10  76  61  15   4\n",
      "9   2023/2024        Tottenham   66  20   6  12  74  61  13   5\n",
      "10  2022/2023  Manchester City   89  28   5   5  94  33  61   1\n",
      "11  2022/2023          Arsenal   84  26   6   6  88  43  45   2\n",
      "12  2022/2023   Manchester Utd   75  23   6   9  58  43  15   3\n",
      "13  2022/2023    Newcastle Utd   71  19  14   5  68  33  35   4\n",
      "14  2022/2023        Liverpool   67  19  10   9  75  47  28   5\n",
      "15  2021/2022  Manchester City   93  29   6   3  99  26  73   1\n",
      "16  2021/2022        Liverpool   92  28   8   2  94  26  68   2\n",
      "17  2021/2022          Chelsea   74  21  11   6  76  33  43   3\n",
      "18  2021/2022        Tottenham   71  22   5  11  69  40  29   4\n",
      "19  2021/2022          Arsenal   69  22   3  13  61  48  13   5\n",
      "20  2020/2021  Manchester City   86  27   5   6  83  32  51   1\n",
      "21  2020/2021   Manchester Utd   74  21  11   6  73  44  29   2\n",
      "22  2020/2021        Liverpool   69  20   9   9  68  42  26   3\n",
      "23  2020/2021          Chelsea   67  19  10   9  58  36  22   4\n",
      "24  2020/2021   Leicester City   66  20   6  12  68  50  18   5\n"
     ]
    }
   ],
   "source": [
    "import pandas as pd\n",
    "import warnings\n",
    "\n",
    "warnings.filterwarnings(\"ignore\")\n",
    "seasons = [2025,2024,2023,2022,2021]\n",
    "top5_standings = []\n",
    "\n",
    "for season in seasons:\n",
    "    url = f\"https://fbref.com/en/comps/9/{season-1}-{season}/{season-1}-{season}-Premier-League-Stats\"\n",
    "    tables = pd.read_html(url)\n",
    "    df = tables[0]\n",
    "    df.columns = [' '.join(col).strip() if isinstance(col, tuple) else col for col in df.columns.values]\n",
    "\n",
    "    #Select the first 5 teams (top 5 teams)\n",
    "    top5 = df.head(5)\n",
    "    top5.loc[:, 'Season'] = f\"{season-1}/{season}\"\n",
    "    top5_standings.append(top5)\n",
    "\n",
    "standings_df = pd.concat(top5_standings, ignore_index=True)\n",
    "print(standings_df[['Season', 'Squad', 'Pts', 'W', 'D', 'L', 'GF', 'GA', 'GD','Rk']])"
   ]
  },
  {
   "cell_type": "markdown",
   "id": "b6573ca3",
   "metadata": {},
   "source": [
    "Squad market value"
   ]
  },
  {
   "cell_type": "code",
   "execution_count": 31,
   "id": "c4a9e136",
   "metadata": {},
   "outputs": [
    {
     "name": "stdout",
     "output_type": "stream",
     "text": [
      "                       Club Average Market Value Total Market Value\n",
      "0           Manchester City              €39.37m            €1.34bn\n",
      "1                Chelsea FC              €28.67m            €1.26bn\n",
      "2                Arsenal FC              €46.62m            €1.21bn\n",
      "3              Liverpool FC              €37.19m            €1.08bn\n",
      "4         Tottenham Hotspur              €25.00m           €849.90m\n",
      "5         Manchester United              €25.54m           €817.20m\n",
      "6          Newcastle United              €22.93m           €664.88m\n",
      "7    Brighton & Hove Albion              €16.62m           €664.60m\n",
      "8               Aston Villa              €19.64m           €549.80m\n",
      "9            Crystal Palace              €15.38m           €461.30m\n",
      "10             Brentford FC              €12.65m           €442.58m\n",
      "11          AFC Bournemouth              €15.01m           €435.35m\n",
      "12        Nottingham Forest              €15.37m           €415.00m\n",
      "13          West Ham United              €12.58m           €364.85m\n",
      "14                Fulham FC              €13.84m           €332.10m\n",
      "15  Wolverhampton Wanderers              €11.32m           €328.30m\n",
      "16               Everton FC              €14.41m           €288.20m\n",
      "17             Leeds United               €9.10m           €254.75m\n",
      "18               Burnley FC               €5.98m           €227.20m\n",
      "19           Sunderland AFC               €6.37m           €222.98m\n"
     ]
    }
   ],
   "source": [
    "import requests\n",
    "from bs4 import BeautifulSoup\n",
    "import pandas as pd\n",
    "# we will try to use requests with headers to avoid the automated blocking by the website\n",
    "url = \"https://www.transfermarkt.com/premier-league/startseite/wettbewerb/GB1/plus/?saison_id=2025\"\n",
    "headers = {\"User-Agent\": \"Mozilla/5.0\"}\n",
    "\n",
    "response = requests.get(url, headers=headers)\n",
    "soup = BeautifulSoup(response.text, \"lxml\")\n",
    "\n",
    "table = soup.find(\"table\", class_=\"items\")\n",
    "rows = table.find_all(\"tr\", class_=[\"odd\", \"even\"])\n",
    "\n",
    "data = []\n",
    "for row in rows:\n",
    "    cells = row.find_all(\"td\")\n",
    "    if len(cells) >= 7:\n",
    "        club = cells[1].get_text(strip=True)\n",
    "        avg_value = cells[5].get_text(strip=True)\n",
    "        total_value = cells[6].get_text(strip=True)\n",
    "        data.append([club, avg_value, total_value])\n",
    "\n",
    "sm_df = pd.DataFrame(data, columns=[\"Club\", \"Average Market Value\", \"Total Market Value\"])\n",
    "print(sm_df)\n"
   ]
  },
  {
   "cell_type": "markdown",
   "id": "f1e2c24d",
   "metadata": {},
   "source": [
    "Manager changes"
   ]
  },
  {
   "cell_type": "code",
   "execution_count": 32,
   "id": "c041ca2f",
   "metadata": {},
   "outputs": [
    {
     "name": "stdout",
     "output_type": "stream",
     "text": [
      "                Club      New Manager\n",
      "0       Brentford FC    Keith Andrews\n",
      "1     Leicester City  Martí Cifuentes\n",
      "2  Tottenham Hotspur     Thomas Frank\n",
      "3     Southampton FC       Will Still\n"
     ]
    }
   ],
   "source": [
    "import requests\n",
    "from bs4 import BeautifulSoup\n",
    "import pandas as pd\n",
    "\n",
    "url = \"https://www.transfermarkt.com/premier-league/trainerwechsel/wettbewerb/GB1/plus/?saison_id=2024\"\n",
    "headers = {\"User-Agent\": \"Mozilla/5.0\"}\n",
    "\n",
    "response = requests.get(url, headers=headers)\n",
    "soup = BeautifulSoup(response.text, \"lxml\")\n",
    "\n",
    "table = soup.find(\"table\", class_=\"items\")\n",
    "rows = table.find_all(\"tr\", class_=[\"odd\", \"even\"])\n",
    "\n",
    "data = []\n",
    "for row in rows:\n",
    "    # We only want rows with at least 7 cells\n",
    "    cells = row.find_all(\"td\")\n",
    "    if len(cells) < 7:\n",
    "        continue\n",
    "\n",
    "    # We extract the club name from the <a> tag in the first cell\n",
    "    # it's the title attribute of the <a> tag\n",
    "    club_tag = cells[0].find(\"a\")\n",
    "    club = club_tag.get(\"title\", club_tag.text.strip()) if club_tag else cells[0].get_text(strip=True)\n",
    "\n",
    "    #The new manager located in the 11th cell\n",
    "    #stripping the text to remove any extra spaces\n",
    "    new_manager = cells[10].get_text(strip=True)\n",
    "\n",
    "    data.append([club, new_manager])\n",
    "\n",
    "managers_df = pd.DataFrame(data, columns=[\"Club\", \"New Manager\"]).head(4)\n",
    "print(managers_df)"
   ]
  },
  {
   "cell_type": "markdown",
   "id": "f6172a5d",
   "metadata": {},
   "source": [
    "Managers Names\n"
   ]
  },
  {
   "cell_type": "code",
   "execution_count": 33,
   "id": "aa6bcc0f",
   "metadata": {},
   "outputs": [
    {
     "name": "stdout",
     "output_type": "stream",
     "text": [
      "       Season                     Club     Manager Name\n",
      "80  2020/2021          Manchester City    Pep Guardiola\n",
      "81  2020/2021               Arsenal FC     Mikel Arteta\n",
      "82  2020/2021         Newcastle United       Eddie Howe\n",
      "83  2020/2021              Aston Villa       Unai Emery\n",
      "84  2020/2021             Leeds United     Daniel Farke\n",
      "85  2020/2021           Crystal Palace   Oliver Glasner\n",
      "86  2020/2021             Liverpool FC        Arne Slot\n",
      "87  2020/2021               Chelsea FC     Enzo Maresca\n",
      "88  2020/2021   Brighton & Hove Albion  Fabian Hürzeler\n",
      "89  2020/2021               Burnley FC     Scott Parker\n",
      "90  2020/2021        Manchester United     Ruben Amorim\n",
      "91  2020/2021  Wolverhampton Wanderers    Vítor Pereira\n",
      "92  2020/2021          West Ham United    Graham Potter\n",
      "93  2020/2021               Everton FC      David Moyes\n",
      "94  2020/2021               Watford FC  Paulo Pezzolano\n",
      "95  2020/2021             Brentford FC    Keith Andrews\n",
      "96  2020/2021             Norwich City     Liam Manning\n",
      "97  2020/2021           Southampton FC       Will Still\n",
      "98  2020/2021        Tottenham Hotspur     Thomas Frank\n",
      "99  2020/2021           Leicester City  Martí Cifuentes\n"
     ]
    }
   ],
   "source": [
    "# !pip install html5lib \n",
    "import requests\n",
    "import warnings\n",
    "import pandas as pd\n",
    "\n",
    "warnings.filterwarnings(\"ignore\")\n",
    "managers_df = []\n",
    "seasons = [2025, 2024, 2023, 2022, 2021]\n",
    "\n",
    "for season in seasons:\n",
    "    url = f\"https://www.transfermarkt.com/premier-league/trainer/pokalwettbewerb/GB1/plus/0?saison_id={season}\"\n",
    "    headers = {\n",
    "        \"User-Agent\": \"Mozilla/5.0\"\n",
    "    }\n",
    "    response = requests.get(url, headers=headers)\n",
    "    if response.status_code != 200:\n",
    "        print(f\"Failed to retrieve data for season {season}\")\n",
    "    tables = pd.read_html(response.text)\n",
    "    soup = BeautifulSoup(response.text, \"lxml\")\n",
    "    table = soup.find(\"table\", class_=\"items\")\n",
    "    rows = table.find_all(\"tr\", class_=[\"odd\", \"even\"])\n",
    "    \n",
    "    for row in rows:\n",
    "        cells = row.find_all(\"td\")\n",
    "        if len(cells) < 4:\n",
    "            continue\n",
    "        club_img = cells[3].find(\"img\")\n",
    "        club_name = club_img['alt'] if club_img else cells[2].get_text(strip=True)\n",
    "        manager_name = cells[1].get_text(strip=True)\n",
    "        managers_df.append({\n",
    "            \"Season\": f\"{season-1}/{season}\",\n",
    "            \"Club\": club_name,\n",
    "            \"Manager Name\": manager_name,\n",
    "        })\n",
    "managers_df = pd.DataFrame(managers_df)\n",
    "print(managers_df.tail(20))\n",
    "    \n"
   ]
  },
  {
   "cell_type": "markdown",
   "id": "ece4d035",
   "metadata": {},
   "source": [
    "Goals, xG, shots, games played"
   ]
  },
  {
   "cell_type": "code",
   "execution_count": 45,
   "id": "882ae2d8",
   "metadata": {},
   "outputs": [
    {
     "name": "stdout",
     "output_type": "stream",
     "text": [
      "       Season  Ranking                Team name  Games Played  Wins  Draws  Losses  Goals For  Goals Against  Goals Difference  Points  Points Per Game    xG   xGa Squad Value         Manager name Top 6 Label Bottom 3 Label\n",
      "0   2024/2025        1                Liverpool            38    25      9       4         86             41                45      84             2.21  82.2  38.6     €1.08bn            Arne Slot         Yes             No\n",
      "1   2024/2025        2                  Arsenal            38    20     14       4         69             34                35      74             1.95  59.9  34.4     €1.21bn         Mikel Arteta         Yes             No\n",
      "2   2024/2025        3          Manchester City            38    21      8       9         72             44                28      71             1.87  68.1  47.7     €1.34bn        Pep Guardiola         Yes             No\n",
      "3   2024/2025        4                  Chelsea            38    20      9       9         64             43                21      69             1.82  67.8  47.3     €1.26bn         Enzo Maresca         Yes             No\n",
      "4   2024/2025        5         Newcastle United            38    20      6      12         68             47                21      66             1.74  63.8  45.5    €664.88m           Eddie Howe         Yes             No\n",
      "5   2024/2025        6              Aston Villa            38    19      9      10         58             51                 7      66             1.74  56.1  50.1    €549.80m           Unai Emery         Yes             No\n",
      "6   2024/2025        7        Nottingham Forest            38    19      8      11         58             46                12      65             1.71  45.5  48.9    €415.00m  Nuno Espírito Santo          No             No\n",
      "7   2024/2025        8   Brighton & Hove Albion            38    16     13       9         66             59                 7      61             1.61  58.7  54.6    €664.60m      Fabian Hürzeler          No             No\n",
      "8   2024/2025        9              Bournemouth            38    15     11      12         58             46                12      56             1.47  64.0  48.5    €435.35m        Andoni Iraola          No             No\n",
      "9   2024/2025       10                Brentford            38    16      8      14         66             57                 9      56             1.47  59.0  55.4    €442.58m        Keith Andrews          No             No\n",
      "10  2024/2025       11                   Fulham            38    15      9      14         54             54                 0      54             1.42  49.0  47.2    €332.10m          Marco Silva          No             No\n",
      "11  2024/2025       12           Crystal Palace            38    13     14      11         51             51                 0      53             1.39  60.4  49.1    €461.30m       Oliver Glasner          No             No\n",
      "12  2024/2025       13                  Everton            38    11     15      12         42             44                -2      48             1.26  41.8  46.2    €288.20m          David Moyes          No             No\n",
      "13  2024/2025       14                 West Ham            38    11     10      17         46             62               -16      43             1.13  47.0  59.7    €364.85m        Graham Potter          No             No\n",
      "14  2024/2025       15        Manchester United            38    11      9      18         44             54               -10      42             1.11  52.6  53.8    €817.20m         Ruben Amorim          No             No\n",
      "15  2024/2025       16  Wolverhampton Wanderers            38    12      6      20         54             69               -15      42             1.11  43.7  58.1    €328.30m        Vítor Pereira          No             No\n",
      "16  2024/2025       17                Tottenham            38    11      5      22         64             65                -1      38             1.00  58.8  63.3    €849.90m         Thomas Frank          No             No\n",
      "17  2024/2025       18           Leicester City            38     6      7      25         33             80               -47      25             0.66  32.6  71.9        None      Martí Cifuentes          No            Yes\n",
      "18  2024/2025       19             Ipswich Town            38     4     10      24         36             82               -46      22             0.58  34.4  72.7        None       Kieran McKenna          No            Yes\n",
      "19  2024/2025       20              Southampton            38     2      6      30         26             86               -60      12             0.32  32.7  84.8        None           Will Still          No            Yes\n"
     ]
    }
   ],
   "source": [
    "import requests\n",
    "from bs4 import BeautifulSoup\n",
    "import pandas as pd\n",
    "import warnings\n",
    "\n",
    "warnings.filterwarnings(\"ignore\")\n",
    "seasons = [2025, 2024, 2023, 2022, 2021]\n",
    "teams_df = []\n",
    "for season in seasons:\n",
    "    url = f\"https://fbref.com/en/comps/9/{season-1}-{season}/{season-1}-{season}-Premier-League-Stats\"\n",
    "    response = requests.get(url)\n",
    "    if response.status_code != 200:\n",
    "        print(f\"Failed to retrieve data for {season-1}/{season}\")\n",
    "    \n",
    "    tables = pd.read_html(response.text)\n",
    "    standings = tables[0]\n",
    "    standings.columns = [' '.join(col).strip() if isinstance(col, tuple) else col for col in standings.columns.values]\n",
    "    for _,row in standings.iterrows():\n",
    "        if row['Squad'].endswith(\" Utd\"):\n",
    "            row['Squad'] = row['Squad'].replace(\" Utd\", \" United\")\n",
    "        elif row['Squad'].startswith(\"Nott'ham\"):\n",
    "            row['Squad'] = row['Squad'].replace(\"Nott'ham\", \"Nottingham\")\n",
    "        elif row['Squad'].startswith(\"Brighton\"):\n",
    "            row['Squad'] = row['Squad'].replace(\"Brighton\", \"Brighton & Hove Albion\")\n",
    "        elif row['Squad'].startswith(\"Wolves\"):\n",
    "            row['Squad'] = row['Squad'].replace(\"Wolves\", \"Wolverhampton Wanderers\")\n",
    "        \n",
    "            \n",
    "        club_mask = (sm_df['Club'] == row['Squad']) | (sm_df['Club'] == row['Squad'] + \" FC\") | (sm_df['Club'] == \"AFC \"+row['Squad']) | (sm_df['Club'] == row['Squad']+\" AFC\") | (sm_df['Club'] == row['Squad']+\" United\") | (sm_df['Club'] == row['Squad']+\" Hotspur\") \n",
    "        matched = sm_df.loc[club_mask, 'Total Market Value']\n",
    "        squad_value = matched.values[0] if not matched.empty else None\n",
    "        manager_row = managers_df[\n",
    "                    (managers_df['Club'] == row['Squad']) |\n",
    "                    (managers_df['Club'] == row['Squad'] + \" FC\") |\n",
    "                    (managers_df['Club'] == \"AFC \"+row['Squad']) |\n",
    "                    (managers_df['Club'] == row['Squad'] + \" United\") |\n",
    "                    (managers_df['Club'] == row['Squad'] + \" City\") |\n",
    "                    (managers_df['Club'] == row['Squad'] + \" Hotspur\") |\n",
    "                    (managers_df['Club'].str.replace(\" FC\", \"\", regex=False) == row['Squad']) |\n",
    "                    (managers_df['Club'].str.replace(\" AFC\", \"\", regex=False) == row['Squad']) |\n",
    "                    (managers_df['Club'].str.replace(\" United\", \"\", regex=False) == row['Squad']) |\n",
    "                    (managers_df['Club'].str.replace(\" City\", \"\", regex=False) == row['Squad']) |\n",
    "                    (managers_df['Club'].str.replace(\" Hotspur\", \"\", regex=False) == row['Squad']) &\n",
    "                    (managers_df['Season'] == f\"{season-1}/{season}\")]\n",
    "        manager_name = manager_row['Manager Name'].values[0] if not manager_row.empty else None\n",
    "        team_dict = {\n",
    "            \"Season\": f\"{season-1}/{season}\",\n",
    "            \"Ranking\": row['Rk'],\n",
    "            \"Team name\": row['Squad'],\n",
    "            \"Games Played\": row['MP'],\n",
    "            \"Wins\": row['W'],\n",
    "            \"Draws\": row['D'],\n",
    "            \"Losses\": row['L'],\n",
    "            \"Goals For\": row['GF'],\n",
    "            \"Goals Against\": row['GA'],\n",
    "            \"Goals Difference\": row['GD'],\n",
    "            \"Points\": row['Pts'],\n",
    "            \"Points Per Game\": row['Pts/MP'],\n",
    "            \"xG\": row['xG'],\n",
    "            \"xGa\": row['xGA'],\n",
    "            \"Squad Value\": squad_value,\n",
    "            \"Manager name\": manager_name,\n",
    "            \"Top 6 Label\": \"Yes\" if row['Rk'] <= 6 else \"No\",\n",
    "            \"Bottom 3 Label\": \"Yes\" if row['Rk'] >= 18 else \"No\",\n",
    "        }\n",
    "        teams_df.append(team_dict)\n",
    "teams_df = pd.DataFrame(teams_df)\n",
    "print(teams_df.head(20))    \n",
    "    "
   ]
  },
  {
   "cell_type": "markdown",
   "id": "1aa1d646",
   "metadata": {},
   "source": [
    "- *Player Data :*"
   ]
  },
  {
   "cell_type": "markdown",
   "id": "39ea6ab7",
   "metadata": {},
   "source": [
    "Goals, xG, shots, minutes played"
   ]
  },
  {
   "cell_type": "code",
   "execution_count": 35,
   "id": "8b9b22f0",
   "metadata": {},
   "outputs": [
    {
     "name": "stdout",
     "output_type": "stream",
     "text": [
      "        Season             name          Team name Minutes played Games played Goals Assists                  xG                  xA Shots Key Passes npg                npxG\n",
      "0    2024/2025    Mohamed Salah          Liverpool           3392           38    29      18   27.70626749098301  15.858334187418222   130         89  20  20.855747912079096\n",
      "1    2024/2025   Alexander Isak   Newcastle United           2822           34    23       6  22.356988068670034    5.44870379474014    99         42  19  19.312312599271536\n",
      "2    2024/2025   Erling Haaland    Manchester City           2749           31    22       3   23.95459282770753  3.5812273556366563   109         29  19  20.909917432814837\n",
      "3    2024/2025       Chris Wood  Nottingham Forest           3024           36    20       3  15.638655036687851   3.044111367315054    68         22  17  13.355148404836655\n",
      "4    2024/2025     Bryan Mbeumo          Brentford           3419           38    20       7   13.63216146454215  10.376488702371716    86         70  15    9.06514835730195\n",
      "..         ...              ...                ...            ...          ...   ...     ...                 ...                 ...   ...        ...  ..                 ...\n",
      "245  2020/2021          Rodrigo              Leeds           1285           26     7       2   5.755638722330332   3.200528811663389    46         31   7   5.755638722330332\n",
      "246  2020/2021      Richarlison            Everton           2883           34     7       3  10.670258212834597  3.3947635404765606    81         25   6    9.90908919647336\n",
      "247  2020/2021    Ferrán Torres    Manchester City           1305           24     7       2   5.728712034411728  2.2024257499724627    36         18   7   5.728712034411728\n",
      "248  2020/2021  Mason Greenwood  Manchester United           1825           31     7       2   6.975751496851444   2.427899083122611    67         14   7   6.975751496851444\n",
      "249  2020/2021      Timo Werner            Chelsea           2605           35     6       8  13.432795317843556   6.667280228808522    80         36   6  13.432795317843556\n",
      "\n",
      "[250 rows x 13 columns]\n"
     ]
    }
   ],
   "source": [
    "import requests \n",
    "import pandas as pd\n",
    "from bs4 import BeautifulSoup\n",
    "import json \n",
    "\n",
    "seasons = [2024, 2023, 2022, 2021, 2020]\n",
    "players_data = []\n",
    "for season in seasons:      \n",
    "    url = f\"https://understat.com/league/EPL/{season}\"\n",
    "\n",
    "    response = requests.get(url)\n",
    "    soup = BeautifulSoup(response.text, 'lxml')\n",
    "    scripts = soup.find_all('script')\n",
    "\n",
    "    try:\n",
    "        strings = scripts[3].string\n",
    "\n",
    "        ind_start = strings.index(\"('\")+2\n",
    "        ind_end = strings.index(\"');\")\n",
    "        json_data = strings[ind_start:ind_end]\n",
    "        json_data = json_data.encode('utf-8').decode('unicode_escape')\n",
    "        data = json.loads(json_data)\n",
    "        # print(json.dumps(data, indent=2))\n",
    "\n",
    "        \n",
    "        for player in data[:50]: # Limit to first 50 players for brevity\n",
    "            player_info = {\n",
    "                \"Season\": f\"{season}/{season+1}\",\n",
    "                \"name\" : player['player_name'],\n",
    "                \"Team name\": player['team_title'],\n",
    "                \"Minutes played\": player['time'],\n",
    "                \"Games played\": player['games'],\n",
    "                \"Goals\": player['goals'],\n",
    "                \"Assists\": player['assists'],\n",
    "                \"xG\": player['xG'],\n",
    "                \"xA\": player['xA'],\n",
    "                \"Shots\": player['shots'],\n",
    "                \"Key Passes\": player['key_passes'],\n",
    "                \"npg\": player['npg'],\n",
    "                \"npxG\": player['npxG'],  \n",
    "            }\n",
    "            players_data.append(player_info)\n",
    "    except Exception as e:\n",
    "        print(f\"Error processing season {season}: {e}\")\n",
    "    \n",
    "players_df = pd.DataFrame(players_data) \n",
    "print(players_df)"
   ]
  },
  {
   "cell_type": "markdown",
   "id": "5fec7682",
   "metadata": {},
   "source": [
    "Player Position and Team"
   ]
  },
  {
   "cell_type": "code",
   "execution_count": 36,
   "id": "f0cf7de1",
   "metadata": {},
   "outputs": [
    {
     "name": "stdout",
     "output_type": "stream",
     "text": [
      "       Season                  name            Position                Team name Minutes played Games played Goals Assists                  xG                  xA Shots Key Passes npg                npxG\n",
      "0   2024/2025         Mohamed Salah          Midfielder                Liverpool           3392           38    29      18   27.70626749098301  15.858334187418222   130         89  20  20.855747912079096\n",
      "1   2024/2025        Alexander Isak             Forward         Newcastle United           2822           34    23       6  22.356988068670034    5.44870379474014    99         42  19  19.312312599271536\n",
      "2   2024/2025        Erling Haaland             Forward          Manchester City           2749           31    22       3   23.95459282770753  3.5812273556366563   109         29  19  20.909917432814837\n",
      "3   2024/2025            Chris Wood             Forward        Nottingham Forest           3024           36    20       3  15.638655036687851   3.044111367315054    68         22  17  13.355148404836655\n",
      "4   2024/2025          Bryan Mbeumo          Midfielder                Brentford           3419           38    20       7   13.63216146454215  10.376488702371716    86         70  15    9.06514835730195\n",
      "5   2024/2025           Yoane Wissa             Forward                Brentford           2943           35    18       4  20.731059528887272  3.4494741149246693    90         28  18  20.731059528887272\n",
      "6   2024/2025         Ollie Watkins             Forward              Aston Villa           2666           38    16       8  18.632458329200745    3.87640418484807    84         25  14   17.11012053489685\n",
      "7   2024/2025         Matheus Cunha  Position not found  Wolverhampton Wanderers           2617           33    15       6   8.446298986673355   7.411126339808106   110         56  15   8.446298986673355\n",
      "8   2024/2025           Cole Palmer          Midfielder                  Chelsea           3228           37    15       8   15.77423645183444  12.954366408288479   126         87  11  11.968392122536898\n",
      "9   2024/2025  Jean-Philippe Mateta             Forward           Crystal Palace           2690           37    14       2   15.83262430690229    3.85278513841331    69         29  12   14.31028657220304\n",
      "10  2024/2025  Jørgen Strand Larsen             Forward  Wolverhampton Wanderers           2624           35    14       4  11.689683858305216   3.358626527711749    54         19  14  11.689683858305216\n",
      "11  2024/2025          Jarrod Bowen          Midfielder                 West Ham           2993           34    13       8   9.816103929653764   7.633318647742271    87         50  12   9.054935092106462\n",
      "12  2024/2025             Luis Díaz          Midfielder                Liverpool           2433           36    13       5    12.3563298471272   6.245185255073011    71         56  13    12.3563298471272\n",
      "13  2024/2025          Raúl Jiménez             Forward                   Fulham           2531           38    12       3  14.405358291231096   4.079181319102645    96         25   9  12.121851704083383\n",
      "14  2024/2025       Justin Kluivert          Midfielder              Bournemouth           2390           34    12       6  10.441609976813197   5.512896118685603    63         44   6    5.87459684535861\n"
     ]
    }
   ],
   "source": [
    "import requests\n",
    "import pandas as pd\n",
    "#Channge the pandas display options to show all columns and increase width\n",
    "pd.set_option('display.max_columns', None)      # Show all columns\n",
    "pd.set_option('display.width', 2000)            # Increase display width\n",
    "pd.set_option('display.max_colwidth', None)     # Show full column content\n",
    "\n",
    "url = \"https://fantasy.premierleague.com/api/bootstrap-static/\"\n",
    "response = requests.get(url)\n",
    "data = response.json()\n",
    "positions = {pos['id']: pos['singular_name'] for pos in data['element_types']}\n",
    "name_to_position = {}\n",
    "for player in data['elements']:\n",
    "    full_name = f\"{player['first_name']} {player['second_name']}\".lower()\n",
    "    name_to_position[full_name] = positions.get(player['element_type'], \"Position not found\")\n",
    "\n",
    "def get_player_position(player_name):\n",
    "    return name_to_position.get(player_name.lower(), \"Position not found\")\n",
    "\n",
    "def get_player_team(player_name):\n",
    "    for player in data['elements']:\n",
    "        full_name = f\"{player['first_name']} {player['second_name']}\".lower()\n",
    "        if (full_name.lower() == player_name.lower() or\n",
    "            player['web_name'].lower() == player_name.lower() or\n",
    "            player['first_name'].lower() == player_name.lower() or\n",
    "            player['second_name'].lower() == player_name.lower() or\n",
    "            player['web_name'].lower() == player_name.lower() ):\n",
    "            for team in data['teams']:\n",
    "                if team['id'] == player['team']:\n",
    "                    return team['name']\n",
    "    return \"Team not found\"\n",
    "\n",
    "# Add team name and position just after the player name column\n",
    "\n",
    "players_df['Position'] = players_df['name'].apply(get_player_position)\n",
    "\n",
    "# Move 'Team Name' and 'Position' right after 'name'\n",
    "cols = list(players_df.columns)\n",
    "name_idx = cols.index('name')\n",
    "# Remove if already present to avoid duplicates\n",
    "cols = [c for c in cols if c not in ['Position']]\n",
    "new_cols = cols[:name_idx+1] + ['Position'] + cols[name_idx+1:]\n",
    "players_df = players_df[new_cols]\n",
    "\n",
    "print(players_df.head(15))"
   ]
  },
  {
   "cell_type": "markdown",
   "id": "3d75a06c",
   "metadata": {},
   "source": [
    "Penalty taker? (Yes/No)"
   ]
  },
  {
   "cell_type": "code",
   "execution_count": 37,
   "id": "fcf16b1a",
   "metadata": {},
   "outputs": [
    {
     "name": "stdout",
     "output_type": "stream",
     "text": [
      "      Season                  name            Position                Team name Minutes played Games played Goals Assists                  xG                  xA Shots Key Passes npg                npxG     Penalty Taker\n",
      "0  2024/2025         Mohamed Salah          Midfielder                Liverpool           3392           38    29      18   27.70626749098301  15.858334187418222   130         89  20  20.855747912079096               Yes\n",
      "1  2024/2025        Alexander Isak             Forward         Newcastle United           2822           34    23       6  22.356988068670034    5.44870379474014    99         42  19  19.312312599271536               Yes\n",
      "2  2024/2025        Erling Haaland             Forward          Manchester City           2749           31    22       3   23.95459282770753  3.5812273556366563   109         29  19  20.909917432814837               Yes\n",
      "3  2024/2025            Chris Wood             Forward        Nottingham Forest           3024           36    20       3  15.638655036687851   3.044111367315054    68         22  17  13.355148404836655               Yes\n",
      "4  2024/2025          Bryan Mbeumo          Midfielder                Brentford           3419           38    20       7   13.63216146454215  10.376488702371716    86         70  15    9.06514835730195               Yes\n",
      "5  2024/2025           Yoane Wissa             Forward                Brentford           2943           35    18       4  20.731059528887272  3.4494741149246693    90         28  18  20.731059528887272               Yes\n",
      "6  2024/2025         Ollie Watkins             Forward              Aston Villa           2666           38    16       8  18.632458329200745    3.87640418484807    84         25  14   17.11012053489685               Yes\n",
      "7  2024/2025         Matheus Cunha  Position not found  Wolverhampton Wanderers           2617           33    15       6   8.446298986673355   7.411126339808106   110         56  15   8.446298986673355  Player not found\n",
      "8  2024/2025           Cole Palmer          Midfielder                  Chelsea           3228           37    15       8   15.77423645183444  12.954366408288479   126         87  11  11.968392122536898               Yes\n",
      "9  2024/2025  Jean-Philippe Mateta             Forward           Crystal Palace           2690           37    14       2   15.83262430690229    3.85278513841331    69         29  12   14.31028657220304               Yes\n"
     ]
    }
   ],
   "source": [
    "# We will simply define a function to check either a player is a penalty taker or not and what is his order if sp\n",
    "import requests\n",
    "\n",
    "# we fetch the data once for efficiency\n",
    "url = \"https://fantasy.premierleague.com/api/bootstrap-static/\"\n",
    "response = requests.get(url)\n",
    "if response.status_code != 200:\n",
    "    raise Exception(\"Failed to fetch data from the API\")\n",
    "data = response.json()\n",
    "\n",
    "def is_penalty_taker(player_name):\n",
    "    for player in data['elements']:\n",
    "        full_name = f\"{player['first_name']} {player['second_name']}\"\n",
    "        if (full_name.lower() == player_name.lower() or\n",
    "            player['web_name'].lower() == player_name.lower() or\n",
    "            player['first_name'].lower() == player_name.lower() or\n",
    "            player['second_name'].lower() == player_name.lower() or\n",
    "            player['web_name'].lower() == player_name.lower()):\n",
    "            order = player['penalties_order']\n",
    "            if order and order > 0:\n",
    "                return \"Yes\"\n",
    "            else:\n",
    "                return \"No\"\n",
    "    return \"Player not found\"\n",
    "players_df['Penalty Taker'] = players_df['name'].apply(is_penalty_taker)\n",
    "\n",
    "cols = list(players_df.columns)\n",
    "npxg = cols.index('npxG')\n",
    "cols = [c for c in cols if c != 'Penalty Taker']\n",
    "new_cols = cols[:npxg+1] + ['Penalty Taker'] + cols[npxg+1:]\n",
    "\n",
    "players_df = players_df[new_cols]\n",
    "print(players_df.head(10))"
   ]
  },
  {
   "cell_type": "markdown",
   "id": "3a98123c",
   "metadata": {},
   "source": [
    "#3 Data Cleaning & Preprocessing"
   ]
  },
  {
   "cell_type": "markdown",
   "id": "1d61b0ae",
   "metadata": {},
   "source": [
    "- Player Data"
   ]
  },
  {
   "cell_type": "code",
   "execution_count": 38,
   "id": "61740452",
   "metadata": {},
   "outputs": [
    {
     "name": "stdout",
     "output_type": "stream",
     "text": [
      "Season            0\n",
      "name              0\n",
      "Position          0\n",
      "Team name         0\n",
      "Minutes played    0\n",
      "Games played      0\n",
      "Goals             0\n",
      "Assists           0\n",
      "xG                0\n",
      "xA                0\n",
      "Shots             0\n",
      "Key Passes        0\n",
      "npg               0\n",
      "npxG              0\n",
      "Penalty Taker     0\n",
      "dtype: int64\n",
      "Season             object\n",
      "name               object\n",
      "Position           object\n",
      "Team name          object\n",
      "Minutes played      int64\n",
      "Games played        int64\n",
      "Goals               int64\n",
      "Assists             int64\n",
      "xG                float64\n",
      "xA                float64\n",
      "Shots               int64\n",
      "Key Passes          int64\n",
      "npg                 int64\n",
      "npxG              float64\n",
      "Penalty Taker      object\n",
      "dtype: object\n"
     ]
    }
   ],
   "source": [
    "#lets make sure that the numeric columns are in the right format\n",
    "numeric_cols = ['Minutes played', 'Games played', 'Goals', 'Assists', 'xG', 'xA', 'Shots', 'Key Passes', 'npg', 'npxG']\n",
    "for col in numeric_cols:\n",
    "    players_df[col] = pd.to_numeric(players_df[col], errors='coerce')\n",
    "\n",
    "# Convert categorical columns to string type\n",
    "categorical_cols = ['name', 'Team name', 'Position', 'Penalty Taker']\n",
    "for col in categorical_cols:\n",
    "    players_df[col] = players_df[col].astype(str)\n",
    "    players_df[col] = players_df[col].str.strip()\n",
    "    \n",
    "#lets convert the 'Season' column to a string type or a consistent datetime format\n",
    "players_df['Season'] = players_df['Season'].astype(str)\n",
    "\n",
    "#lets check for any missing values\n",
    "print(players_df.isnull().sum())\n",
    "\n",
    "# lets check the data types of the columns\n",
    "print(players_df.dtypes)"
   ]
  },
  {
   "cell_type": "markdown",
   "id": "9f2992a5",
   "metadata": {},
   "source": [
    "Filter and Clean Player Data"
   ]
  },
  {
   "cell_type": "code",
   "execution_count": 39,
   "id": "18ce0deb",
   "metadata": {},
   "outputs": [
    {
     "name": "stdout",
     "output_type": "stream",
     "text": [
      "        Season                   name    Position                 Team name  Minutes played  Games played  Goals  Assists         xG        xA  Shots  Key Passes  npg       npxG  Penalty Taker  Goals per Game  Assists per Game  Total Contributions  xG per Game  xA per Game  npg per Game  npxG per Game\n",
      "203  2020/2021          Son Heung-Min  Midfielder                 Tottenham            3139            37     17       10  11.023286  9.512996     68          75   16  10.262118              1        0.459459          0.270270                   27     0.297927     0.257108      0.432432       0.277355\n",
      "205  2020/2021  Dominic Calvert-Lewin     Forward                   Everton            2878            33     16        0  18.210517  2.101817     83          18   16  18.210517              1        0.484848          0.000000                   16     0.551834     0.063691      0.484848       0.551834\n",
      "206  2020/2021            Jamie Vardy     Forward                 Leicester            2848            34     15        9  19.942947  5.087883     82          28    7  13.092422              1        0.441176          0.264706                   24     0.586557     0.149644      0.205882       0.385071\n",
      "207  2020/2021          Ollie Watkins     Forward               Aston Villa            3330            37     14        5  16.280177  5.314030     98          45   13  14.757837              1        0.378378          0.135135                   19     0.440005     0.143622      0.351351       0.398860\n",
      "208  2020/2021         Ilkay Gündogan  Midfielder           Manchester City            2033            28     13        2   9.566889  3.816221     54          42   12   8.044548              0        0.464286          0.071429                   15     0.341675     0.136294      0.428571       0.287305\n",
      "210  2020/2021          Callum Wilson     Forward          Newcastle United            2079            26     12        5  13.590087  3.046300     49          17    8  10.545413              1        0.461538          0.192308                   17     0.522696     0.117165      0.307692       0.405593\n",
      "212  2020/2021             Danny Ings     Forward               Southampton            2200            29     12        4   8.276574  2.311231     57          22   10   6.754236              0        0.413793          0.137931                   16     0.285399     0.079698      0.344828       0.232905\n",
      "213  2020/2021             Chris Wood     Forward                   Burnley            2765            33     12        3  12.954143  2.038118     70          23   10  11.431803              1        0.363636          0.090909                   15     0.392550     0.061761      0.303030       0.346418\n",
      "215  2020/2021        Marcus Rashford  Midfielder         Manchester United            2941            37     11        9   9.579709  4.185123     79          44   11   9.579709              1        0.297297          0.243243                   20     0.258911     0.113111      0.297297       0.258911\n",
      "220  2020/2021        Michail Antonio     Forward                  West Ham            1993            26     10        5  14.138837  3.194422     63          27   10  14.138837              0        0.384615          0.192308                   15     0.543801     0.122862      0.384615       0.543801\n",
      "222  2020/2021        Raheem Sterling  Midfielder           Manchester City            2539            31     10        7  12.050681  6.628709     70          39   10  11.289512              0        0.322581          0.225806                   17     0.388732     0.213829      0.322581       0.364178\n",
      "231  2020/2021             Phil Foden  Midfielder           Manchester City            1606            28      9        5   6.083393  4.749281     45          36    9   6.083393              0        0.321429          0.178571                   14     0.217264     0.169617      0.321429       0.217264\n",
      "232  2020/2021          Harvey Barnes  Midfielder                 Leicester            1954            25      9        4   6.697318  1.771689     56          26    9   6.697318              0        0.360000          0.160000                   13     0.267893     0.070868      0.360000       0.267893\n",
      "235  2020/2021      James Ward-Prowse  Midfielder               Southampton            3420            38      8        7   5.442037  4.070980     43          60    5   2.397362              0        0.210526          0.184211                   15     0.143212     0.107131      0.131579       0.063088\n",
      "236  2020/2021           Jarrod Bowen  Midfielder                  West Ham            2599            38      8        5   7.988897  5.229475     55          29    8   7.988897              1        0.210526          0.131579                   13     0.210234     0.137618      0.210526       0.210234\n",
      "237  2020/2021            Neal Maupay     Forward                  Brighton            2526            33      8        2  13.773534  4.277408     71          32    5  10.728933              0        0.242424          0.060606                   10     0.417380     0.129618      0.151515       0.325119\n",
      "238  2020/2021            Joe Willock  Midfielder  Arsenal,Newcastle United            1215            21      8        0   5.088087  0.733701     23          10    8   4.326922              0        0.380952          0.000000                    8     0.242290     0.034938      0.380952       0.206044\n",
      "239  2020/2021         James Maddison  Midfielder                 Leicester            2123            31      8        5   3.827571  5.386724     75          50    8   3.827571              1        0.258065          0.161290                   13     0.123470     0.173765      0.258065       0.123470\n",
      "242  2020/2021          Jack Harrison  Midfielder                     Leeds            2871            36      8        8   6.254035  7.523064     46          59    8   6.254035              0        0.222222          0.222222                   16     0.173723     0.208974      0.222222       0.173723\n",
      "249  2020/2021            Timo Werner  Midfielder                   Chelsea            2605            35      6        8  13.432795  6.667280     80          36    6  13.432795              0        0.171429          0.228571                   14     0.383794     0.190494      0.171429       0.383794\n"
     ]
    }
   ],
   "source": [
    "#lets keep only attacking players\n",
    "attacking_positions = ['Forward', 'Midfielder']\n",
    "players_df = players_df[players_df['Position'].isin(attacking_positions)]\n",
    "#lets keep only players with more than 1000 minutes played\n",
    "players_df = players_df[players_df['Minutes played'] > 1000]\n",
    "#Lets drop or fill any missing values\n",
    "players_df = players_df.dropna(subset=['name', 'Team name', 'Position', 'Penalty Taker'])\n",
    "# Switch Penalty Taker to a binary column\n",
    "players_df['Penalty Taker'] = players_df['Penalty Taker'].apply(lambda x: 1 if x == 'Yes' else 0)\n",
    "#Lets add derived columns for goals per game and assists per game\n",
    "players_df['Goals per Game'] = players_df['Goals'] / players_df['Games played']\n",
    "players_df['Assists per Game'] = players_df['Assists'] / players_df['Games played']\n",
    "#Lets add a column for total contributions (goals + assists)\n",
    "players_df['Total Contributions'] = players_df['Goals'] + players_df['Assists']\n",
    "#Lets add a column for xG per game\n",
    "players_df['xG per Game'] = players_df['xG'] / players_df['Games played']\n",
    "#Lets add a column for xA per game\n",
    "players_df['xA per Game'] = players_df['xA'] / players_df['Games played']\n",
    "#Lets add a column for npg per game\n",
    "players_df['npg per Game'] = players_df['npg'] / players_df['Games played']\n",
    "#Lets add a column for npxG per game\n",
    "players_df['npxG per Game'] = players_df['npxG'] / players_df['Games played']\n",
    "print(players_df.tail(20))"
   ]
  },
  {
   "cell_type": "markdown",
   "id": "e927e2fb",
   "metadata": {},
   "source": [
    "- Teams Data"
   ]
  },
  {
   "cell_type": "code",
   "execution_count": 46,
   "id": "9a60e3e9",
   "metadata": {},
   "outputs": [
    {
     "name": "stdout",
     "output_type": "stream",
     "text": [
      "Season                0\n",
      "Ranking               0\n",
      "Team name             0\n",
      "Games Played          0\n",
      "Wins                  0\n",
      "Draws                 0\n",
      "Losses                0\n",
      "Goals For             0\n",
      "Goals Against         0\n",
      "Goals Difference      0\n",
      "Points                0\n",
      "Points Per Game       0\n",
      "xG                    0\n",
      "xGa                   0\n",
      "Squad Value         100\n",
      "Manager name          0\n",
      "Top 6 Label           0\n",
      "Bottom 3 Label        0\n",
      "dtype: int64\n",
      "Season               object\n",
      "Ranking               int64\n",
      "Team name            object\n",
      "Games Played          int64\n",
      "Wins                  int64\n",
      "Draws                 int64\n",
      "Losses                int64\n",
      "Goals For             int64\n",
      "Goals Against         int64\n",
      "Goals Difference      int64\n",
      "Points                int64\n",
      "Points Per Game     float64\n",
      "xG                  float64\n",
      "xGa                 float64\n",
      "Squad Value         float64\n",
      "Manager name         object\n",
      "Top 6 Label          object\n",
      "Bottom 3 Label       object\n",
      "dtype: object\n"
     ]
    }
   ],
   "source": [
    "#lets make sure that the numeric columns are in the right format\n",
    "numeric_cols = ['Ranking', 'Games Played', 'Wins', 'Draws', 'Losses', 'Goals For', 'Goals Against', 'Goals Difference', 'Points', 'Points Per Game', 'xG', 'xGa', 'Squad Value']\n",
    "for col in numeric_cols:\n",
    "    teams_df[col] = pd.to_numeric(teams_df[col], errors='coerce')\n",
    "\n",
    "# Convert categorical columns to string type\n",
    "categorical_cols = ['Team name', 'Manager name']\n",
    "for col in categorical_cols:\n",
    "    teams_df[col] = teams_df[col].astype(str)\n",
    "    teams_df[col] = teams_df[col].str.strip()\n",
    "#lets convert the 'Season' column to a string type or a consistent datetime format\n",
    "teams_df['Season'] = teams_df['Season'].astype(str)\n",
    "#lets check for any missing values\n",
    "print(teams_df.isnull().sum())\n",
    "# lets check the data types of the columns\n",
    "print(teams_df.dtypes)\n"
   ]
  },
  {
   "cell_type": "markdown",
   "id": "1cf35560",
   "metadata": {},
   "source": [
    "Filter and Clean Teams Data"
   ]
  },
  {
   "cell_type": "code",
   "execution_count": 48,
   "id": "b2ad8a85",
   "metadata": {},
   "outputs": [
    {
     "name": "stdout",
     "output_type": "stream",
     "text": [
      "       Season  Ranking                Team name  Games Played  Wins  Draws  Losses  Goals For  Goals Against  Goals Difference  Points  Points Per Game    xG   xGa  Squad Value     Manager name  Top 6 Label  Bottom 3 Label  Goals per Game  Points per Game  xG Difference  Win Ratio  Goal Efficiency  Defensive Leakiness\n",
      "80  2020/2021        1          Manchester City            38    27      5       6         83             32                51      86             2.26  68.2  30.2          NaN    Pep Guardiola            1               0        2.184211         2.263158           38.0   0.710526         1.217009             1.059603\n",
      "81  2020/2021        2        Manchester United            38    21     11       6         73             44                29      74             1.95  60.1  41.4          NaN     Ruben Amorim            1               0        1.921053         1.947368           18.7   0.552632         1.214642             1.062802\n",
      "82  2020/2021        3                Liverpool            38    20      9       9         68             42                26      69             1.82  67.5  43.0          NaN        Arne Slot            1               0        1.789474         1.815789           24.5   0.526316         1.007407             0.976744\n",
      "83  2020/2021        4                  Chelsea            38    19     10       9         58             36                22      67             1.76  62.4  30.3          NaN     Enzo Maresca            1               0        1.526316         1.763158           32.1   0.500000         0.929487             1.188119\n",
      "84  2020/2021        5           Leicester City            38    20      6      12         68             50                18      66             1.74  55.8  46.0          NaN  Martí Cifuentes            1               0        1.789474         1.736842            9.8   0.526316         1.218638             1.086957\n",
      "85  2020/2021        6                 West Ham            38    19      8      11         62             47                15      65             1.71  55.4  48.7          NaN    Graham Potter            1               0        1.631579         1.710526            6.7   0.500000         1.119134             0.965092\n",
      "86  2020/2021        7                Tottenham            38    18      8      12         68             45                23      62             1.63  53.1  49.1          NaN     Thomas Frank            0               0        1.789474         1.631579            4.0   0.473684         1.280603             0.916497\n",
      "87  2020/2021        8                  Arsenal            38    18      7      13         55             39                16      61             1.61  51.7  43.0          NaN     Mikel Arteta            0               0        1.447368         1.605263            8.7   0.473684         1.063830             0.906977\n",
      "88  2020/2021        9             Leeds United            38    18      5      15         62             54                 8      59             1.55  55.6  57.9          NaN     Daniel Farke            0               0        1.631579         1.552632           -2.3   0.473684         1.115108             0.932642\n",
      "89  2020/2021       10                  Everton            38    17      8      13         47             48                -1      59             1.55  45.7  50.1          NaN      David Moyes            0               0        1.236842         1.552632           -4.4   0.447368         1.028446             0.958084\n",
      "90  2020/2021       11              Aston Villa            38    16      7      15         55             46                 9      55             1.45  52.5  51.1          NaN       Unai Emery            0               0        1.447368         1.447368            1.4   0.421053         1.047619             0.900196\n",
      "91  2020/2021       12         Newcastle United            38    12      9      17         46             62               -16      45             1.18  43.4  58.3          NaN       Eddie Howe            0               0        1.210526         1.184211          -14.9   0.315789         1.059908             1.063465\n",
      "92  2020/2021       13  Wolverhampton Wanderers            38    12      9      17         36             52               -16      45             1.18  36.5  49.5          NaN    Vítor Pereira            0               0        0.947368         1.184211          -13.0   0.315789         0.986301             1.050505\n",
      "93  2020/2021       14           Crystal Palace            38    12      8      18         41             66               -25      44             1.16  34.1  58.2          NaN   Oliver Glasner            0               0        1.078947         1.157895          -24.1   0.315789         1.202346             1.134021\n",
      "94  2020/2021       15              Southampton            38    12      7      19         47             68               -21      43             1.13  41.2  53.1          NaN       Will Still            0               0        1.236842         1.131579          -11.9   0.315789         1.140777             1.280603\n",
      "95  2020/2021       16   Brighton & Hove Albion            38     9     14      15         40             46                -6      41             1.08  50.9  35.3          NaN  Fabian Hürzeler            0               0        1.052632         1.078947           15.6   0.236842         0.785855             1.303116\n",
      "96  2020/2021       17                  Burnley            38    10      9      19         33             55               -22      39             1.03  39.3  54.7          NaN     Scott Parker            0               0        0.868421         1.026316          -15.4   0.263158         0.839695             1.005484\n",
      "97  2020/2021       18                   Fulham            38     5     13      20         27             53               -26      28             0.74  40.5  52.6          NaN      Marco Silva            0               1        0.710526         0.736842          -12.1   0.131579         0.666667             1.007605\n",
      "98  2020/2021       19                West Brom            38     5     11      22         35             76               -41      26             0.68  35.8  67.9          NaN             None            0               1        0.921053         0.684211          -32.1   0.131579         0.977654             1.119293\n",
      "99  2020/2021       20         Sheffield United            38     7      2      29         20             63               -43      23             0.61  32.6  62.2          NaN     Rubén Sellés            0               1        0.526316         0.605263          -29.6   0.184211         0.613497             1.012862\n"
     ]
    }
   ],
   "source": [
    "#Lets switch the Top 6 Label and Bottom 3 Label to a binary column\n",
    "teams_df['Top 6 Label'] = teams_df['Top 6 Label'].apply(lambda x: 1 if x == 'Yes' else 0)\n",
    "teams_df['Bottom 3 Label'] = teams_df['Bottom 3 Label'].apply(lambda x: 1 if x == 'Yes' else 0)\n",
    "\n",
    "#Lets add derived columns for goals per game and points per game\n",
    "teams_df['Goals per Game'] = teams_df['Goals For'] / teams_df['Games Played']\n",
    "teams_df['Points per Game'] = teams_df['Points'] / teams_df['Games Played']\n",
    "\n",
    "#xG difference\n",
    "teams_df['xG Difference'] = teams_df['xG'] - teams_df['xGa']\n",
    "#Win Ratio\n",
    "teams_df['Win Ratio'] = teams_df['Wins'] / teams_df['Games Played']\n",
    "#Goal Efficiency\n",
    "teams_df['Goal Efficiency'] = teams_df['Goals For'] / teams_df['xG']\n",
    "#Defensive Leakiness\n",
    "teams_df['Defensive Leakiness'] = teams_df['Goals Against'] / teams_df['xGa']\n",
    "\n",
    "print(teams_df.tail(20))"
   ]
  },
  {
   "cell_type": "markdown",
   "id": "bb00e133",
   "metadata": {},
   "source": [
    "#4 Build the Prediction Models"
   ]
  },
  {
   "cell_type": "code",
   "execution_count": null,
   "id": "218723b5",
   "metadata": {},
   "outputs": [],
   "source": []
  },
  {
   "cell_type": "markdown",
   "id": "08b2e179",
   "metadata": {},
   "source": [
    "#5 Evaluate Models"
   ]
  },
  {
   "cell_type": "code",
   "execution_count": null,
   "id": "814e5d53",
   "metadata": {},
   "outputs": [],
   "source": []
  },
  {
   "cell_type": "markdown",
   "id": "ee9fd0da",
   "metadata": {},
   "source": [
    "#6 Simulate Next Season"
   ]
  },
  {
   "cell_type": "code",
   "execution_count": null,
   "id": "532549e0",
   "metadata": {},
   "outputs": [],
   "source": []
  },
  {
   "cell_type": "markdown",
   "id": "17b1c23a",
   "metadata": {},
   "source": [
    "#7 Visualizations"
   ]
  },
  {
   "cell_type": "code",
   "execution_count": null,
   "id": "079c868f",
   "metadata": {},
   "outputs": [],
   "source": []
  }
 ],
 "metadata": {
  "kernelspec": {
   "display_name": "Python 3",
   "language": "python",
   "name": "python3"
  },
  "language_info": {
   "codemirror_mode": {
    "name": "ipython",
    "version": 3
   },
   "file_extension": ".py",
   "mimetype": "text/x-python",
   "name": "python",
   "nbconvert_exporter": "python",
   "pygments_lexer": "ipython3",
   "version": "3.13.2"
  }
 },
 "nbformat": 4,
 "nbformat_minor": 5
}
