{
 "cells": [
  {
   "cell_type": "markdown",
   "id": "235a79f2",
   "metadata": {},
   "source": [
    "#1 Setup and imports"
   ]
  },
  {
   "cell_type": "code",
   "execution_count": 51,
   "id": "de219c73",
   "metadata": {},
   "outputs": [
    {
     "name": "stdout",
     "output_type": "stream",
     "text": [
      "Install done\n"
     ]
    }
   ],
   "source": [
    "import sys\n",
    "!{sys.executable} -m pip install pandas numpy matplotlib seaborn plotly scikit-learn >nul 2>&1\n",
    "print(\"Install done\")"
   ]
  },
  {
   "cell_type": "code",
   "execution_count": null,
   "id": "82281368",
   "metadata": {},
   "outputs": [
    {
     "name": "stderr",
     "output_type": "stream",
     "text": [
      "Matplotlib is building the font cache; this may take a moment.\n"
     ]
    }
   ],
   "source": [
    "#Core libraries\n",
    "import pandas as pd\n",
    "import numpy as np \n",
    "#Visualization libraries\n",
    "import matplotlib.pyplot as plt\n",
    "import seaborn as sns \n",
    "import plotly.express as px \n",
    "#Machine learning libraries\n",
    "from sklearn.model_selection import train_test_split, cross_val_score\n",
    "from sklearn.linear_model import LogisticRegression, Ridge, LogisticRegression\n",
    "from sklearn.ensemble import RandomForestClassifier, RandomForestRegressor\n",
    "from sklearn.metrics import mean_absolute_error,mean_squared_error, classification_report, accuracy_score, confusion_matrix\n",
    "#Data preprocessing libraries\n",
    "from sklearn.preprocessing import StandardScaler, MinMaxScaler, LabelEncoder"
   ]
  },
  {
   "cell_type": "markdown",
   "id": "56578ac0",
   "metadata": {},
   "source": [
    "#2 Data Collection"
   ]
  },
  {
   "cell_type": "markdown",
   "id": "121dfad1",
   "metadata": {},
   "source": [
    "- *Clubs Data :*"
   ]
  },
  {
   "cell_type": "markdown",
   "id": "0e181d73",
   "metadata": {},
   "source": [
    "\n",
    "Points, wins, draws, losses, goals for/against, xG/xGA"
   ]
  },
  {
   "cell_type": "code",
   "execution_count": 48,
   "id": "424d2c7c",
   "metadata": {},
   "outputs": [
    {
     "name": "stdout",
     "output_type": "stream",
     "text": [
      "       Season            Squad  Pts   W   D   L  GF  GA  GD  Rk\n",
      "0   2024/2025        Liverpool   84  25   9   4  86  41  45   1\n",
      "1   2024/2025          Arsenal   74  20  14   4  69  34  35   2\n",
      "2   2024/2025  Manchester City   71  21   8   9  72  44  28   3\n",
      "3   2024/2025          Chelsea   69  20   9   9  64  43  21   4\n",
      "4   2024/2025    Newcastle Utd   66  20   6  12  68  47  21   5\n",
      "5   2023/2024  Manchester City   91  28   7   3  96  34  62   1\n",
      "6   2023/2024          Arsenal   89  28   5   5  91  29  62   2\n",
      "7   2023/2024        Liverpool   82  24  10   4  86  41  45   3\n",
      "8   2023/2024      Aston Villa   68  20   8  10  76  61  15   4\n",
      "9   2023/2024        Tottenham   66  20   6  12  74  61  13   5\n",
      "10  2022/2023  Manchester City   89  28   5   5  94  33  61   1\n",
      "11  2022/2023          Arsenal   84  26   6   6  88  43  45   2\n",
      "12  2022/2023   Manchester Utd   75  23   6   9  58  43  15   3\n",
      "13  2022/2023    Newcastle Utd   71  19  14   5  68  33  35   4\n",
      "14  2022/2023        Liverpool   67  19  10   9  75  47  28   5\n",
      "15  2021/2022  Manchester City   93  29   6   3  99  26  73   1\n",
      "16  2021/2022        Liverpool   92  28   8   2  94  26  68   2\n",
      "17  2021/2022          Chelsea   74  21  11   6  76  33  43   3\n",
      "18  2021/2022        Tottenham   71  22   5  11  69  40  29   4\n",
      "19  2021/2022          Arsenal   69  22   3  13  61  48  13   5\n",
      "20  2020/2021  Manchester City   86  27   5   6  83  32  51   1\n",
      "21  2020/2021   Manchester Utd   74  21  11   6  73  44  29   2\n",
      "22  2020/2021        Liverpool   69  20   9   9  68  42  26   3\n",
      "23  2020/2021          Chelsea   67  19  10   9  58  36  22   4\n",
      "24  2020/2021   Leicester City   66  20   6  12  68  50  18   5\n"
     ]
    }
   ],
   "source": [
    "import pandas as pd\n",
    "import warnings\n",
    "\n",
    "warnings.filterwarnings(\"ignore\")\n",
    "seasons = [2025,2024,2023,2022,2021]\n",
    "top5_standings = []\n",
    "\n",
    "for season in seasons:\n",
    "    url = f\"https://fbref.com/en/comps/9/{season-1}-{season}/{season-1}-{season}-Premier-League-Stats\"\n",
    "    tables = pd.read_html(url)\n",
    "    df = tables[0]\n",
    "    df.columns = [' '.join(col).strip() if isinstance(col, tuple) else col for col in df.columns.values]\n",
    "\n",
    "    #Select the first 5 teams (top 5 teams)\n",
    "    top5 = df.head(5)\n",
    "    top5.loc[:, 'Season'] = f\"{season-1}/{season}\"\n",
    "    top5_standings.append(top5)\n",
    "\n",
    "standings_df = pd.concat(top5_standings, ignore_index=True)\n",
    "print(standings_df[['Season', 'Squad', 'Pts', 'W', 'D', 'L', 'GF', 'GA', 'GD','Rk']])"
   ]
  },
  {
   "cell_type": "markdown",
   "id": "b6573ca3",
   "metadata": {},
   "source": [
    "Squad market value"
   ]
  },
  {
   "cell_type": "code",
   "execution_count": 34,
   "id": "c4a9e136",
   "metadata": {},
   "outputs": [
    {
     "name": "stdout",
     "output_type": "stream",
     "text": [
      "                       Club Average Market Value Total Market Value\n",
      "0           Manchester City              €39.37m            €1.34bn\n",
      "1                Chelsea FC              €28.67m            €1.26bn\n",
      "2                Arsenal FC              €46.62m            €1.21bn\n",
      "3              Liverpool FC              €37.19m            €1.08bn\n",
      "4         Tottenham Hotspur              €25.00m           €849.90m\n",
      "5         Manchester United              €25.54m           €817.20m\n",
      "6          Newcastle United              €22.93m           €664.88m\n",
      "7    Brighton & Hove Albion              €16.62m           €664.60m\n",
      "8               Aston Villa              €19.64m           €549.80m\n",
      "9            Crystal Palace              €15.38m           €461.30m\n",
      "10             Brentford FC              €12.65m           €442.58m\n",
      "11          AFC Bournemouth              €15.01m           €435.35m\n",
      "12        Nottingham Forest              €15.37m           €415.00m\n",
      "13          West Ham United              €12.49m           €349.85m\n",
      "14                Fulham FC              €13.84m           €332.10m\n",
      "15  Wolverhampton Wanderers              €11.32m           €328.30m\n",
      "16               Everton FC              €14.41m           €288.20m\n",
      "17             Leeds United               €9.10m           €254.75m\n",
      "18               Burnley FC               €5.98m           €227.20m\n",
      "19           Sunderland AFC               €6.37m           €222.98m\n"
     ]
    }
   ],
   "source": [
    "import requests\n",
    "from bs4 import BeautifulSoup\n",
    "import pandas as pd\n",
    "# we will try to use requests with headers to avoid the automated blocking by the website\n",
    "url = \"https://www.transfermarkt.com/premier-league/startseite/wettbewerb/GB1/plus/?saison_id=2025\"\n",
    "headers = {\"User-Agent\": \"Mozilla/5.0\"}\n",
    "\n",
    "response = requests.get(url, headers=headers)\n",
    "soup = BeautifulSoup(response.text, \"lxml\")\n",
    "\n",
    "table = soup.find(\"table\", class_=\"items\")\n",
    "rows = table.find_all(\"tr\", class_=[\"odd\", \"even\"])\n",
    "\n",
    "data = []\n",
    "for row in rows:\n",
    "    cells = row.find_all(\"td\")\n",
    "    if len(cells) >= 7:\n",
    "        club = cells[1].get_text(strip=True)\n",
    "        avg_value = cells[5].get_text(strip=True)\n",
    "        total_value = cells[6].get_text(strip=True)\n",
    "        data.append([club, avg_value, total_value])\n",
    "\n",
    "sm_df = pd.DataFrame(data, columns=[\"Club\", \"Average Market Value\", \"Total Market Value\"])\n",
    "print(sm_df)\n"
   ]
  },
  {
   "cell_type": "markdown",
   "id": "f1e2c24d",
   "metadata": {},
   "source": [
    "Manager changes"
   ]
  },
  {
   "cell_type": "code",
   "execution_count": 95,
   "id": "c041ca2f",
   "metadata": {},
   "outputs": [
    {
     "name": "stdout",
     "output_type": "stream",
     "text": [
      "                Club      New Manager\n",
      "0       Brentford FC    Keith Andrews\n",
      "1     Leicester City  Martí Cifuentes\n",
      "2  Tottenham Hotspur     Thomas Frank\n",
      "3     Southampton FC       Will Still\n"
     ]
    }
   ],
   "source": [
    "import requests\n",
    "from bs4 import BeautifulSoup\n",
    "import pandas as pd\n",
    "\n",
    "url = \"https://www.transfermarkt.com/premier-league/trainerwechsel/wettbewerb/GB1/plus/?saison_id=2024\"\n",
    "headers = {\"User-Agent\": \"Mozilla/5.0\"}\n",
    "\n",
    "response = requests.get(url, headers=headers)\n",
    "soup = BeautifulSoup(response.text, \"lxml\")\n",
    "\n",
    "table = soup.find(\"table\", class_=\"items\")\n",
    "rows = table.find_all(\"tr\", class_=[\"odd\", \"even\"])\n",
    "\n",
    "data = []\n",
    "for row in rows:\n",
    "    # We only want rows with at least 7 cells\n",
    "    cells = row.find_all(\"td\")\n",
    "    if len(cells) < 7:\n",
    "        continue\n",
    "\n",
    "    # We extract the club name from the <a> tag in the first cell\n",
    "    # it's the title attribute of the <a> tag\n",
    "    club_tag = cells[0].find(\"a\")\n",
    "    club = club_tag.get(\"title\", club_tag.text.strip()) if club_tag else cells[0].get_text(strip=True)\n",
    "\n",
    "    #The new manager located in the 11th cell\n",
    "    #stripping the text to remove any extra spaces\n",
    "    new_manager = cells[10].get_text(strip=True)\n",
    "\n",
    "    data.append([club, new_manager])\n",
    "\n",
    "managers_df = pd.DataFrame(data, columns=[\"Club\", \"New Manager\"]).head(4)\n",
    "print(managers_df)"
   ]
  },
  {
   "cell_type": "markdown",
   "id": "f6172a5d",
   "metadata": {},
   "source": [
    "Managers Names\n"
   ]
  },
  {
   "cell_type": "code",
   "execution_count": 91,
   "id": "aa6bcc0f",
   "metadata": {},
   "outputs": [
    {
     "name": "stdout",
     "output_type": "stream",
     "text": [
      "       Season                     Club     Manager Name\n",
      "80  2020/2021          Manchester City    Pep Guardiola\n",
      "81  2020/2021               Arsenal FC     Mikel Arteta\n",
      "82  2020/2021         Newcastle United       Eddie Howe\n",
      "83  2020/2021              Aston Villa       Unai Emery\n",
      "84  2020/2021             Leeds United     Daniel Farke\n",
      "85  2020/2021           Crystal Palace   Oliver Glasner\n",
      "86  2020/2021             Liverpool FC        Arne Slot\n",
      "87  2020/2021               Chelsea FC     Enzo Maresca\n",
      "88  2020/2021   Brighton & Hove Albion  Fabian Hürzeler\n",
      "89  2020/2021               Burnley FC     Scott Parker\n",
      "90  2020/2021        Manchester United     Ruben Amorim\n",
      "91  2020/2021  Wolverhampton Wanderers    Vítor Pereira\n",
      "92  2020/2021          West Ham United    Graham Potter\n",
      "93  2020/2021               Everton FC      David Moyes\n",
      "94  2020/2021               Watford FC  Paulo Pezzolano\n",
      "95  2020/2021             Brentford FC    Keith Andrews\n",
      "96  2020/2021             Norwich City     Liam Manning\n",
      "97  2020/2021           Southampton FC       Will Still\n",
      "98  2020/2021        Tottenham Hotspur     Thomas Frank\n",
      "99  2020/2021           Leicester City  Martí Cifuentes\n"
     ]
    }
   ],
   "source": [
    "# !pip install html5lib \n",
    "import requests\n",
    "import warnings\n",
    "import pandas as pd\n",
    "\n",
    "warnings.filterwarnings(\"ignore\")\n",
    "managers_df = []\n",
    "seasons = [2025, 2024, 2023, 2022, 2021]\n",
    "\n",
    "for season in seasons:\n",
    "    url = f\"https://www.transfermarkt.com/premier-league/trainer/pokalwettbewerb/GB1/plus/0?saison_id={season}\"\n",
    "    headers = {\n",
    "        \"User-Agent\": \"Mozilla/5.0\"\n",
    "    }\n",
    "    response = requests.get(url, headers=headers)\n",
    "    if response.status_code != 200:\n",
    "        print(f\"Failed to retrieve data for season {season}\")\n",
    "    tables = pd.read_html(response.text)\n",
    "    soup = BeautifulSoup(response.text, \"lxml\")\n",
    "    table = soup.find(\"table\", class_=\"items\")\n",
    "    rows = table.find_all(\"tr\", class_=[\"odd\", \"even\"])\n",
    "    \n",
    "    for row in rows:\n",
    "        cells = row.find_all(\"td\")\n",
    "        if len(cells) < 4:\n",
    "            continue\n",
    "        club_img = cells[3].find(\"img\")\n",
    "        club_name = club_img['alt'] if club_img else cells[2].get_text(strip=True)\n",
    "        manager_name = cells[1].get_text(strip=True)\n",
    "        managers_df.append({\n",
    "            \"Season\": f\"{season-1}/{season}\",\n",
    "            \"Club\": club_name,\n",
    "            \"Manager Name\": manager_name,\n",
    "        })\n",
    "managers_df = pd.DataFrame(managers_df)\n",
    "print(managers_df.tail(20))\n",
    "    \n"
   ]
  },
  {
   "cell_type": "markdown",
   "id": "ece4d035",
   "metadata": {},
   "source": [
    "Team strength metrics"
   ]
  },
  {
   "cell_type": "code",
   "execution_count": 100,
   "id": "882ae2d8",
   "metadata": {},
   "outputs": [
    {
     "name": "stdout",
     "output_type": "stream",
     "text": [
      "       Season  Ranking                Team name  Games Played  Wins  Draws  Losses  Goals For  Goals Against  Goals Difference  Points  Points Per Game    xG   xGa Squad Value         Manager name Top 6 Label Bottom 3 Label\n",
      "0   2024/2025        1                Liverpool            38    25      9       4         86             41                45      84             2.21  82.2  38.6     €1.08bn            Arne Slot         Yes             No\n",
      "1   2024/2025        2                  Arsenal            38    20     14       4         69             34                35      74             1.95  59.9  34.4     €1.21bn         Mikel Arteta         Yes             No\n",
      "2   2024/2025        3          Manchester City            38    21      8       9         72             44                28      71             1.87  68.1  47.7     €1.34bn        Pep Guardiola         Yes             No\n",
      "3   2024/2025        4                  Chelsea            38    20      9       9         64             43                21      69             1.82  67.8  47.3     €1.26bn         Enzo Maresca         Yes             No\n",
      "4   2024/2025        5         Newcastle United            38    20      6      12         68             47                21      66             1.74  63.8  45.5    €664.88m           Eddie Howe         Yes             No\n",
      "5   2024/2025        6              Aston Villa            38    19      9      10         58             51                 7      66             1.74  56.1  50.1    €549.80m           Unai Emery         Yes             No\n",
      "6   2024/2025        7        Nottingham Forest            38    19      8      11         58             46                12      65             1.71  45.5  48.9    €415.00m  Nuno Espírito Santo          No             No\n",
      "7   2024/2025        8   Brighton & Hove Albion            38    16     13       9         66             59                 7      61             1.61  58.7  54.6    €664.60m      Fabian Hürzeler          No             No\n",
      "8   2024/2025        9              Bournemouth            38    15     11      12         58             46                12      56             1.47  64.0  48.5    €435.35m        Andoni Iraola          No             No\n",
      "9   2024/2025       10                Brentford            38    16      8      14         66             57                 9      56             1.47  59.0  55.4    €442.58m        Keith Andrews          No             No\n",
      "10  2024/2025       11                   Fulham            38    15      9      14         54             54                 0      54             1.42  49.0  47.2    €332.10m          Marco Silva          No             No\n",
      "11  2024/2025       12           Crystal Palace            38    13     14      11         51             51                 0      53             1.39  60.4  49.1    €461.30m       Oliver Glasner          No             No\n",
      "12  2024/2025       13                  Everton            38    11     15      12         42             44                -2      48             1.26  41.8  46.2    €288.20m          David Moyes          No             No\n",
      "13  2024/2025       14                 West Ham            38    11     10      17         46             62               -16      43             1.13  47.0  59.7    €349.85m        Graham Potter          No             No\n",
      "14  2024/2025       15        Manchester United            38    11      9      18         44             54               -10      42             1.11  52.6  53.8    €817.20m         Ruben Amorim          No             No\n",
      "15  2024/2025       16  Wolverhampton Wanderers            38    12      6      20         54             69               -15      42             1.11  43.7  58.1    €328.30m        Vítor Pereira          No             No\n",
      "16  2024/2025       17                Tottenham            38    11      5      22         64             65                -1      38             1.00  58.8  63.3    €849.90m         Thomas Frank          No             No\n",
      "17  2024/2025       18           Leicester City            38     6      7      25         33             80               -47      25             0.66  32.6  71.9        None      Martí Cifuentes          No            Yes\n",
      "18  2024/2025       19             Ipswich Town            38     4     10      24         36             82               -46      22             0.58  34.4  72.7        None       Kieran McKenna          No            Yes\n",
      "19  2024/2025       20              Southampton            38     2      6      30         26             86               -60      12             0.32  32.7  84.8        None           Will Still          No            Yes\n"
     ]
    }
   ],
   "source": [
    "import requests\n",
    "from bs4 import BeautifulSoup\n",
    "import pandas as pd\n",
    "import warnings\n",
    "\n",
    "warnings.filterwarnings(\"ignore\")\n",
    "seasons = [2025, 2024, 2023, 2022, 2021]\n",
    "teams_df = []\n",
    "for season in seasons:\n",
    "    url = f\"https://fbref.com/en/comps/9/{season-1}-{season}/{season-1}-{season}-Premier-League-Stats\"\n",
    "    response = requests.get(url)\n",
    "    if response.status_code != 200:\n",
    "        print(f\"Failed to retrieve data for {season-1}/{season}\")\n",
    "    \n",
    "    tables = pd.read_html(response.text)\n",
    "    standings = tables[0]\n",
    "    standings.columns = [' '.join(col).strip() if isinstance(col, tuple) else col for col in standings.columns.values]\n",
    "    for _,row in standings.iterrows():\n",
    "        if row['Squad'].endswith(\" Utd\"):\n",
    "            row['Squad'] = row['Squad'].replace(\" Utd\", \" United\")\n",
    "        elif row['Squad'].startswith(\"Nott'ham\"):\n",
    "            row['Squad'] = row['Squad'].replace(\"Nott'ham\", \"Nottingham\")\n",
    "        elif row['Squad'].startswith(\"Brighton\"):\n",
    "            row['Squad'] = row['Squad'].replace(\"Brighton\", \"Brighton & Hove Albion\")\n",
    "        elif row['Squad'].startswith(\"Wolves\"):\n",
    "            row['Squad'] = row['Squad'].replace(\"Wolves\", \"Wolverhampton Wanderers\")\n",
    "        \n",
    "            \n",
    "        club_mask = (sm_df['Club'] == row['Squad']) | (sm_df['Club'] == row['Squad'] + \" FC\") | (sm_df['Club'] == \"AFC \"+row['Squad']) | (sm_df['Club'] == row['Squad']+\" AFC\") | (sm_df['Club'] == row['Squad']+\" United\") | (sm_df['Club'] == row['Squad']+\" Hotspur\") \n",
    "        matched = sm_df.loc[club_mask, 'Total Market Value']\n",
    "        squad_value = matched.values[0] if not matched.empty else None\n",
    "        manager_row = managers_df[\n",
    "                    (managers_df['Club'] == row['Squad']) |\n",
    "                    (managers_df['Club'] == row['Squad'] + \" FC\") |\n",
    "                    (managers_df['Club'] == \"AFC \"+row['Squad']) |\n",
    "                    (managers_df['Club'] == row['Squad'] + \" United\") |\n",
    "                    (managers_df['Club'] == row['Squad'] + \" City\") |\n",
    "                    (managers_df['Club'] == row['Squad'] + \" Hotspur\") |\n",
    "                    (managers_df['Club'].str.replace(\" FC\", \"\", regex=False) == row['Squad']) |\n",
    "                    (managers_df['Club'].str.replace(\" AFC\", \"\", regex=False) == row['Squad']) |\n",
    "                    (managers_df['Club'].str.replace(\" United\", \"\", regex=False) == row['Squad']) |\n",
    "                    (managers_df['Club'].str.replace(\" City\", \"\", regex=False) == row['Squad']) |\n",
    "                    (managers_df['Club'].str.replace(\" Hotspur\", \"\", regex=False) == row['Squad']) &\n",
    "                    (managers_df['Season'] == f\"{season-1}/{season}\")]\n",
    "        manager_name = manager_row['Manager Name'].values[0] if not manager_row.empty else None\n",
    "        team_dict = {\n",
    "            \"Season\": f\"{season-1}/{season}\",\n",
    "            \"Ranking\": row['Rk'],\n",
    "            \"Team name\": row['Squad'],\n",
    "            \"Games Played\": row['MP'],\n",
    "            \"Wins\": row['W'],\n",
    "            \"Draws\": row['D'],\n",
    "            \"Losses\": row['L'],\n",
    "            \"Goals For\": row['GF'],\n",
    "            \"Goals Against\": row['GA'],\n",
    "            \"Goals Difference\": row['GD'],\n",
    "            \"Points\": row['Pts'],\n",
    "            \"Points Per Game\": row['Pts/MP'],\n",
    "            \"xG\": row['xG'],\n",
    "            \"xGa\": row['xGA'],\n",
    "            \"Squad Value\": squad_value,\n",
    "            \"Manager name\": manager_name,\n",
    "            \"Top 6 Label\": \"Yes\" if row['Rk'] <= 6 else \"No\",\n",
    "            \"Bottom 3 Label\": \"Yes\" if row['Rk'] >= 18 else \"No\",\n",
    "        }\n",
    "        teams_df.append(team_dict)\n",
    "teams_df = pd.DataFrame(teams_df)\n",
    "print(teams_df.head(20))    \n",
    "    "
   ]
  },
  {
   "cell_type": "markdown",
   "id": "1aa1d646",
   "metadata": {},
   "source": [
    "- *Player Data :*"
   ]
  },
  {
   "cell_type": "markdown",
   "id": "39ea6ab7",
   "metadata": {},
   "source": [
    "Goals, xG, shots, minutes played"
   ]
  },
  {
   "cell_type": "code",
   "execution_count": 21,
   "id": "8b9b22f0",
   "metadata": {},
   "outputs": [
    {
     "name": "stdout",
     "output_type": "stream",
     "text": [
      "        Season             name          Team name Minutes played Games played Goals Assists                  xG                  xA Shots Key Passes npg                npxG\n",
      "0    2024/2025    Mohamed Salah          Liverpool           3392           38    29      18   27.70626749098301  15.858334187418222   130         89  20  20.855747912079096\n",
      "1    2024/2025   Alexander Isak   Newcastle United           2822           34    23       6  22.356988068670034    5.44870379474014    99         42  19  19.312312599271536\n",
      "2    2024/2025   Erling Haaland    Manchester City           2749           31    22       3   23.95459282770753  3.5812273556366563   109         29  19  20.909917432814837\n",
      "3    2024/2025       Chris Wood  Nottingham Forest           3024           36    20       3  15.638655036687851   3.044111367315054    68         22  17  13.355148404836655\n",
      "4    2024/2025     Bryan Mbeumo          Brentford           3419           38    20       7   13.63216146454215  10.376488702371716    86         70  15    9.06514835730195\n",
      "..         ...              ...                ...            ...          ...   ...     ...                 ...                 ...   ...        ...  ..                 ...\n",
      "245  2020/2021          Rodrigo              Leeds           1285           26     7       2   5.755638722330332   3.200528811663389    46         31   7   5.755638722330332\n",
      "246  2020/2021      Richarlison            Everton           2883           34     7       3  10.670258212834597  3.3947635404765606    81         25   6    9.90908919647336\n",
      "247  2020/2021    Ferrán Torres    Manchester City           1305           24     7       2   5.728712034411728  2.2024257499724627    36         18   7   5.728712034411728\n",
      "248  2020/2021  Mason Greenwood  Manchester United           1825           31     7       2   6.975751496851444   2.427899083122611    67         14   7   6.975751496851444\n",
      "249  2020/2021      Timo Werner            Chelsea           2605           35     6       8  13.432795317843556   6.667280228808522    80         36   6  13.432795317843556\n",
      "\n",
      "[250 rows x 13 columns]\n"
     ]
    }
   ],
   "source": [
    "import requests \n",
    "import pandas as pd\n",
    "from bs4 import BeautifulSoup\n",
    "import json \n",
    "\n",
    "seasons = [2024, 2023, 2022, 2021, 2020]\n",
    "players_data = []\n",
    "for season in seasons:      \n",
    "    url = f\"https://understat.com/league/EPL/{season}\"\n",
    "\n",
    "    response = requests.get(url)\n",
    "    soup = BeautifulSoup(response.text, 'lxml')\n",
    "    scripts = soup.find_all('script')\n",
    "\n",
    "    try:\n",
    "        strings = scripts[3].string\n",
    "\n",
    "        ind_start = strings.index(\"('\")+2\n",
    "        ind_end = strings.index(\"');\")\n",
    "        json_data = strings[ind_start:ind_end]\n",
    "        json_data = json_data.encode('utf-8').decode('unicode_escape')\n",
    "        data = json.loads(json_data)\n",
    "        # print(json.dumps(data, indent=2))\n",
    "\n",
    "        \n",
    "        for player in data[:50]: # Limit to first 50 players for brevity\n",
    "            player_info = {\n",
    "                \"Season\": f\"{season}/{season+1}\",\n",
    "                \"name\" : player['player_name'],\n",
    "                \"Team name\": player['team_title'],\n",
    "                \"Minutes played\": player['time'],\n",
    "                \"Games played\": player['games'],\n",
    "                \"Goals\": player['goals'],\n",
    "                \"Assists\": player['assists'],\n",
    "                \"xG\": player['xG'],\n",
    "                \"xA\": player['xA'],\n",
    "                \"Shots\": player['shots'],\n",
    "                \"Key Passes\": player['key_passes'],\n",
    "                \"npg\": player['npg'],\n",
    "                \"npxG\": player['npxG'],  \n",
    "            }\n",
    "            players_data.append(player_info)\n",
    "    except Exception as e:\n",
    "        print(f\"Error processing season {season}: {e}\")\n",
    "    \n",
    "players_df = pd.DataFrame(players_data) \n",
    "print(players_df)"
   ]
  },
  {
   "cell_type": "markdown",
   "id": "5fec7682",
   "metadata": {},
   "source": [
    "Player Position and Team"
   ]
  },
  {
   "cell_type": "code",
   "execution_count": 22,
   "id": "f0cf7de1",
   "metadata": {},
   "outputs": [
    {
     "name": "stdout",
     "output_type": "stream",
     "text": [
      "       Season                  name            Position                Team name Minutes played Games played Goals Assists                  xG                  xA Shots Key Passes npg                npxG\n",
      "0   2024/2025         Mohamed Salah          Midfielder                Liverpool           3392           38    29      18   27.70626749098301  15.858334187418222   130         89  20  20.855747912079096\n",
      "1   2024/2025        Alexander Isak             Forward         Newcastle United           2822           34    23       6  22.356988068670034    5.44870379474014    99         42  19  19.312312599271536\n",
      "2   2024/2025        Erling Haaland             Forward          Manchester City           2749           31    22       3   23.95459282770753  3.5812273556366563   109         29  19  20.909917432814837\n",
      "3   2024/2025            Chris Wood             Forward        Nottingham Forest           3024           36    20       3  15.638655036687851   3.044111367315054    68         22  17  13.355148404836655\n",
      "4   2024/2025          Bryan Mbeumo          Midfielder                Brentford           3419           38    20       7   13.63216146454215  10.376488702371716    86         70  15    9.06514835730195\n",
      "5   2024/2025           Yoane Wissa             Forward                Brentford           2943           35    18       4  20.731059528887272  3.4494741149246693    90         28  18  20.731059528887272\n",
      "6   2024/2025         Ollie Watkins             Forward              Aston Villa           2666           38    16       8  18.632458329200745    3.87640418484807    84         25  14   17.11012053489685\n",
      "7   2024/2025         Matheus Cunha  Position not found  Wolverhampton Wanderers           2617           33    15       6   8.446298986673355   7.411126339808106   110         56  15   8.446298986673355\n",
      "8   2024/2025           Cole Palmer          Midfielder                  Chelsea           3228           37    15       8   15.77423645183444  12.954366408288479   126         87  11  11.968392122536898\n",
      "9   2024/2025  Jean-Philippe Mateta             Forward           Crystal Palace           2690           37    14       2   15.83262430690229    3.85278513841331    69         29  12   14.31028657220304\n",
      "10  2024/2025  Jørgen Strand Larsen             Forward  Wolverhampton Wanderers           2624           35    14       4  11.689683858305216   3.358626527711749    54         19  14  11.689683858305216\n",
      "11  2024/2025          Jarrod Bowen          Midfielder                 West Ham           2993           34    13       8   9.816103929653764   7.633318647742271    87         50  12   9.054935092106462\n",
      "12  2024/2025             Luis Díaz          Midfielder                Liverpool           2433           36    13       5    12.3563298471272   6.245185255073011    71         56  13    12.3563298471272\n",
      "13  2024/2025          Raúl Jiménez             Forward                   Fulham           2531           38    12       3  14.405358291231096   4.079181319102645    96         25   9  12.121851704083383\n",
      "14  2024/2025       Justin Kluivert          Midfielder              Bournemouth           2390           34    12       6  10.441609976813197   5.512896118685603    63         44   6    5.87459684535861\n"
     ]
    }
   ],
   "source": [
    "import requests\n",
    "import pandas as pd\n",
    "#Channge the pandas display options to show all columns and increase width\n",
    "pd.set_option('display.max_columns', None)      # Show all columns\n",
    "pd.set_option('display.width', 2000)            # Increase display width\n",
    "pd.set_option('display.max_colwidth', None)     # Show full column content\n",
    "\n",
    "url = \"https://fantasy.premierleague.com/api/bootstrap-static/\"\n",
    "response = requests.get(url)\n",
    "data = response.json()\n",
    "positions = {pos['id']: pos['singular_name'] for pos in data['element_types']}\n",
    "name_to_position = {}\n",
    "for player in data['elements']:\n",
    "    full_name = f\"{player['first_name']} {player['second_name']}\".lower()\n",
    "    name_to_position[full_name] = positions.get(player['element_type'], \"Position not found\")\n",
    "\n",
    "def get_player_position(player_name):\n",
    "    return name_to_position.get(player_name.lower(), \"Position not found\")\n",
    "\n",
    "def get_player_team(player_name):\n",
    "    for player in data['elements']:\n",
    "        full_name = f\"{player['first_name']} {player['second_name']}\".lower()\n",
    "        if (full_name.lower() == player_name.lower() or\n",
    "            player['web_name'].lower() == player_name.lower() or\n",
    "            player['first_name'].lower() == player_name.lower() or\n",
    "            player['second_name'].lower() == player_name.lower() or\n",
    "            player['web_name'].lower() == player_name.lower() ):\n",
    "            for team in data['teams']:\n",
    "                if team['id'] == player['team']:\n",
    "                    return team['name']\n",
    "    return \"Team not found\"\n",
    "\n",
    "# Add team name and position just after the player name column\n",
    "\n",
    "players_df['Position'] = players_df['name'].apply(get_player_position)\n",
    "\n",
    "# Move 'Team Name' and 'Position' right after 'name'\n",
    "cols = list(players_df.columns)\n",
    "name_idx = cols.index('name')\n",
    "# Remove if already present to avoid duplicates\n",
    "cols = [c for c in cols if c not in ['Position']]\n",
    "new_cols = cols[:name_idx+1] + ['Position'] + cols[name_idx+1:]\n",
    "players_df = players_df[new_cols]\n",
    "\n",
    "print(players_df.head(15))"
   ]
  },
  {
   "cell_type": "markdown",
   "id": "49813607",
   "metadata": {},
   "source": [
    "Team attacking style"
   ]
  },
  {
   "cell_type": "code",
   "execution_count": null,
   "id": "84025874",
   "metadata": {},
   "outputs": [],
   "source": []
  },
  {
   "cell_type": "markdown",
   "id": "3d75a06c",
   "metadata": {},
   "source": [
    "Penalty taker? (Yes/No)"
   ]
  },
  {
   "cell_type": "code",
   "execution_count": 23,
   "id": "fcf16b1a",
   "metadata": {},
   "outputs": [
    {
     "name": "stdout",
     "output_type": "stream",
     "text": [
      "      Season                  name            Position                Team name Minutes played Games played Goals Assists                  xG                  xA Shots Key Passes npg                npxG     Penalty Taker\n",
      "0  2024/2025         Mohamed Salah          Midfielder                Liverpool           3392           38    29      18   27.70626749098301  15.858334187418222   130         89  20  20.855747912079096               Yes\n",
      "1  2024/2025        Alexander Isak             Forward         Newcastle United           2822           34    23       6  22.356988068670034    5.44870379474014    99         42  19  19.312312599271536               Yes\n",
      "2  2024/2025        Erling Haaland             Forward          Manchester City           2749           31    22       3   23.95459282770753  3.5812273556366563   109         29  19  20.909917432814837               Yes\n",
      "3  2024/2025            Chris Wood             Forward        Nottingham Forest           3024           36    20       3  15.638655036687851   3.044111367315054    68         22  17  13.355148404836655               Yes\n",
      "4  2024/2025          Bryan Mbeumo          Midfielder                Brentford           3419           38    20       7   13.63216146454215  10.376488702371716    86         70  15    9.06514835730195               Yes\n",
      "5  2024/2025           Yoane Wissa             Forward                Brentford           2943           35    18       4  20.731059528887272  3.4494741149246693    90         28  18  20.731059528887272               Yes\n",
      "6  2024/2025         Ollie Watkins             Forward              Aston Villa           2666           38    16       8  18.632458329200745    3.87640418484807    84         25  14   17.11012053489685               Yes\n",
      "7  2024/2025         Matheus Cunha  Position not found  Wolverhampton Wanderers           2617           33    15       6   8.446298986673355   7.411126339808106   110         56  15   8.446298986673355  Player not found\n",
      "8  2024/2025           Cole Palmer          Midfielder                  Chelsea           3228           37    15       8   15.77423645183444  12.954366408288479   126         87  11  11.968392122536898               Yes\n",
      "9  2024/2025  Jean-Philippe Mateta             Forward           Crystal Palace           2690           37    14       2   15.83262430690229    3.85278513841331    69         29  12   14.31028657220304               Yes\n"
     ]
    }
   ],
   "source": [
    "# We will simply define a function to check either a player is a penalty taker or not and what is his order if sp\n",
    "import requests\n",
    "\n",
    "# we fetch the data once for efficiency\n",
    "url = \"https://fantasy.premierleague.com/api/bootstrap-static/\"\n",
    "response = requests.get(url)\n",
    "if response.status_code != 200:\n",
    "    raise Exception(\"Failed to fetch data from the API\")\n",
    "data = response.json()\n",
    "\n",
    "def is_penalty_taker(player_name):\n",
    "    for player in data['elements']:\n",
    "        full_name = f\"{player['first_name']} {player['second_name']}\"\n",
    "        if (full_name.lower() == player_name.lower() or\n",
    "            player['web_name'].lower() == player_name.lower() or\n",
    "            player['first_name'].lower() == player_name.lower() or\n",
    "            player['second_name'].lower() == player_name.lower() or\n",
    "            player['web_name'].lower() == player_name.lower()):\n",
    "            order = player['penalties_order']\n",
    "            if order and order > 0:\n",
    "                return \"Yes\"\n",
    "            else:\n",
    "                return \"No\"\n",
    "    return \"Player not found\"\n",
    "players_df['Penalty Taker'] = players_df['name'].apply(is_penalty_taker)\n",
    "\n",
    "cols = list(players_df.columns)\n",
    "npxg = cols.index('npxG')\n",
    "cols = [c for c in cols if c != 'Penalty Taker']\n",
    "new_cols = cols[:npxg+1] + ['Penalty Taker'] + cols[npxg+1:]\n",
    "\n",
    "players_df = players_df[new_cols]\n",
    "print(players_df.head(10))"
   ]
  },
  {
   "cell_type": "markdown",
   "id": "3a98123c",
   "metadata": {},
   "source": [
    "#3 Data Cleaning & Preprocessing"
   ]
  },
  {
   "cell_type": "code",
   "execution_count": null,
   "id": "61740452",
   "metadata": {},
   "outputs": [],
   "source": []
  },
  {
   "cell_type": "markdown",
   "id": "bb00e133",
   "metadata": {},
   "source": [
    "#4 Build the Prediction Models"
   ]
  },
  {
   "cell_type": "code",
   "execution_count": null,
   "id": "218723b5",
   "metadata": {},
   "outputs": [],
   "source": []
  },
  {
   "cell_type": "markdown",
   "id": "08b2e179",
   "metadata": {},
   "source": [
    "#5 Evaluate Models"
   ]
  },
  {
   "cell_type": "code",
   "execution_count": null,
   "id": "814e5d53",
   "metadata": {},
   "outputs": [],
   "source": []
  },
  {
   "cell_type": "markdown",
   "id": "ee9fd0da",
   "metadata": {},
   "source": [
    "#6 Simulate Next Season"
   ]
  },
  {
   "cell_type": "code",
   "execution_count": null,
   "id": "532549e0",
   "metadata": {},
   "outputs": [],
   "source": []
  },
  {
   "cell_type": "markdown",
   "id": "17b1c23a",
   "metadata": {},
   "source": [
    "#7 Visualizations"
   ]
  },
  {
   "cell_type": "code",
   "execution_count": null,
   "id": "079c868f",
   "metadata": {},
   "outputs": [],
   "source": []
  }
 ],
 "metadata": {
  "kernelspec": {
   "display_name": "Python 3",
   "language": "python",
   "name": "python3"
  },
  "language_info": {
   "codemirror_mode": {
    "name": "ipython",
    "version": 3
   },
   "file_extension": ".py",
   "mimetype": "text/x-python",
   "name": "python",
   "nbconvert_exporter": "python",
   "pygments_lexer": "ipython3",
   "version": "3.13.2"
  }
 },
 "nbformat": 4,
 "nbformat_minor": 5
}
